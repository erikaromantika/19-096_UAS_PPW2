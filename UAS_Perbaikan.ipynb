{
  "nbformat": 4,
  "nbformat_minor": 0,
  "metadata": {
    "colab": {
      "name": "UAS_Perbaikan.ipynb",
      "provenance": [],
      "collapsed_sections": []
    },
    "kernelspec": {
      "name": "python3",
      "display_name": "Python 3"
    },
    "language_info": {
      "name": "python"
    }
  },
  "cells": [
    {
      "cell_type": "markdown",
      "source": [
        "Nama: Erika Romantika\n",
        "\n",
        "NIM: 190411100096\n",
        "\n",
        "UAS: Penambangan dan Pencarian Web"
      ],
      "metadata": {
        "id": "Ka8piUqrfhPf"
      }
    },
    {
      "cell_type": "markdown",
      "source": [
        "#ANALISA TOPIK MODELLING"
      ],
      "metadata": {
        "id": "25QApeJ_iDmt"
      }
    },
    {
      "cell_type": "markdown",
      "source": [
        "#Melakukan Install Scrapy, untuk crawling data\n",
        "\n",
        "Scrapy ini adalah library python yang digunakan untuk melakukan scrapping/ crawling pada web pta yang dilakukan.\n"
      ],
      "metadata": {
        "id": "e62ypATNfmAl"
      }
    },
    {
      "cell_type": "code",
      "execution_count": 1,
      "metadata": {
        "colab": {
          "base_uri": "https://localhost:8080/"
        },
        "id": "y8g8GqW_d-24",
        "outputId": "f6dff270-96d0-47b8-b965-723161cbd02a"
      },
      "outputs": [
        {
          "output_type": "stream",
          "name": "stdout",
          "text": [
            "Looking in indexes: https://pypi.org/simple, https://us-python.pkg.dev/colab-wheels/public/simple/\n",
            "Collecting scrapy\n",
            "  Downloading Scrapy-2.6.1-py2.py3-none-any.whl (264 kB)\n",
            "\u001b[K     |████████████████████████████████| 264 kB 10.6 MB/s \n",
            "\u001b[?25hCollecting pyOpenSSL>=16.2.0\n",
            "  Downloading pyOpenSSL-22.0.0-py2.py3-none-any.whl (55 kB)\n",
            "\u001b[K     |████████████████████████████████| 55 kB 4.4 MB/s \n",
            "\u001b[?25hCollecting cryptography>=2.0\n",
            "  Downloading cryptography-37.0.4-cp36-abi3-manylinux_2_24_x86_64.whl (4.1 MB)\n",
            "\u001b[K     |████████████████████████████████| 4.1 MB 57.4 MB/s \n",
            "\u001b[?25hCollecting itemloaders>=1.0.1\n",
            "  Downloading itemloaders-1.0.4-py3-none-any.whl (11 kB)\n",
            "Collecting service-identity>=16.0.0\n",
            "  Downloading service_identity-21.1.0-py2.py3-none-any.whl (12 kB)\n",
            "Collecting cssselect>=0.9.1\n",
            "  Downloading cssselect-1.1.0-py2.py3-none-any.whl (16 kB)\n",
            "Collecting tldextract\n",
            "  Downloading tldextract-3.3.1-py3-none-any.whl (93 kB)\n",
            "\u001b[K     |████████████████████████████████| 93 kB 2.3 MB/s \n",
            "\u001b[?25hCollecting itemadapter>=0.1.0\n",
            "  Downloading itemadapter-0.6.0-py3-none-any.whl (10 kB)\n",
            "Collecting queuelib>=1.4.2\n",
            "  Downloading queuelib-1.6.2-py2.py3-none-any.whl (13 kB)\n",
            "Collecting Twisted>=17.9.0\n",
            "  Downloading Twisted-22.4.0-py3-none-any.whl (3.1 MB)\n",
            "\u001b[K     |████████████████████████████████| 3.1 MB 52.3 MB/s \n",
            "\u001b[?25hRequirement already satisfied: setuptools in /usr/local/lib/python3.7/dist-packages (from scrapy) (57.4.0)\n",
            "Collecting w3lib>=1.17.0\n",
            "  Downloading w3lib-1.22.0-py2.py3-none-any.whl (20 kB)\n",
            "Requirement already satisfied: lxml>=3.5.0 in /usr/local/lib/python3.7/dist-packages (from scrapy) (4.2.6)\n",
            "Collecting parsel>=1.5.0\n",
            "  Downloading parsel-1.6.0-py2.py3-none-any.whl (13 kB)\n",
            "Collecting PyDispatcher>=2.0.5\n",
            "  Downloading PyDispatcher-2.0.5.zip (47 kB)\n",
            "\u001b[K     |████████████████████████████████| 47 kB 4.7 MB/s \n",
            "\u001b[?25hCollecting zope.interface>=4.1.3\n",
            "  Downloading zope.interface-5.4.0-cp37-cp37m-manylinux2010_x86_64.whl (251 kB)\n",
            "\u001b[K     |████████████████████████████████| 251 kB 62.7 MB/s \n",
            "\u001b[?25hCollecting protego>=0.1.15\n",
            "  Downloading Protego-0.2.1-py2.py3-none-any.whl (8.2 kB)\n",
            "Requirement already satisfied: cffi>=1.12 in /usr/local/lib/python3.7/dist-packages (from cryptography>=2.0->scrapy) (1.15.0)\n",
            "Requirement already satisfied: pycparser in /usr/local/lib/python3.7/dist-packages (from cffi>=1.12->cryptography>=2.0->scrapy) (2.21)\n",
            "Collecting jmespath>=0.9.5\n",
            "  Downloading jmespath-1.0.1-py3-none-any.whl (20 kB)\n",
            "Requirement already satisfied: six>=1.6.0 in /usr/local/lib/python3.7/dist-packages (from parsel>=1.5.0->scrapy) (1.15.0)\n",
            "Requirement already satisfied: pyasn1 in /usr/local/lib/python3.7/dist-packages (from service-identity>=16.0.0->scrapy) (0.4.8)\n",
            "Requirement already satisfied: pyasn1-modules in /usr/local/lib/python3.7/dist-packages (from service-identity>=16.0.0->scrapy) (0.2.8)\n",
            "Requirement already satisfied: attrs>=19.1.0 in /usr/local/lib/python3.7/dist-packages (from service-identity>=16.0.0->scrapy) (21.4.0)\n",
            "Collecting Automat>=0.8.0\n",
            "  Downloading Automat-20.2.0-py2.py3-none-any.whl (31 kB)\n",
            "Collecting hyperlink>=17.1.1\n",
            "  Downloading hyperlink-21.0.0-py2.py3-none-any.whl (74 kB)\n",
            "\u001b[K     |████████████████████████████████| 74 kB 3.5 MB/s \n",
            "\u001b[?25hCollecting incremental>=21.3.0\n",
            "  Downloading incremental-21.3.0-py2.py3-none-any.whl (15 kB)\n",
            "Requirement already satisfied: typing-extensions>=3.6.5 in /usr/local/lib/python3.7/dist-packages (from Twisted>=17.9.0->scrapy) (4.1.1)\n",
            "Collecting constantly>=15.1\n",
            "  Downloading constantly-15.1.0-py2.py3-none-any.whl (7.9 kB)\n",
            "Requirement already satisfied: idna>=2.5 in /usr/local/lib/python3.7/dist-packages (from hyperlink>=17.1.1->Twisted>=17.9.0->scrapy) (2.10)\n",
            "Collecting requests-file>=1.4\n",
            "  Downloading requests_file-1.5.1-py2.py3-none-any.whl (3.7 kB)\n",
            "Requirement already satisfied: filelock>=3.0.8 in /usr/local/lib/python3.7/dist-packages (from tldextract->scrapy) (3.7.1)\n",
            "Requirement already satisfied: requests>=2.1.0 in /usr/local/lib/python3.7/dist-packages (from tldextract->scrapy) (2.23.0)\n",
            "Requirement already satisfied: certifi>=2017.4.17 in /usr/local/lib/python3.7/dist-packages (from requests>=2.1.0->tldextract->scrapy) (2022.6.15)\n",
            "Requirement already satisfied: chardet<4,>=3.0.2 in /usr/local/lib/python3.7/dist-packages (from requests>=2.1.0->tldextract->scrapy) (3.0.4)\n",
            "Requirement already satisfied: urllib3!=1.25.0,!=1.25.1,<1.26,>=1.21.1 in /usr/local/lib/python3.7/dist-packages (from requests>=2.1.0->tldextract->scrapy) (1.24.3)\n",
            "Building wheels for collected packages: PyDispatcher\n",
            "  Building wheel for PyDispatcher (setup.py) ... \u001b[?25l\u001b[?25hdone\n",
            "  Created wheel for PyDispatcher: filename=PyDispatcher-2.0.5-py3-none-any.whl size=11516 sha256=7b06c9a942a76c8dacca3ece3883149900a611565c12c05d0c19d2f4fe633641\n",
            "  Stored in directory: /root/.cache/pip/wheels/2d/18/21/3c6a732eaa69a339198e08bb63b7da2c45933a3428b29ec454\n",
            "Successfully built PyDispatcher\n",
            "Installing collected packages: w3lib, cssselect, zope.interface, requests-file, parsel, jmespath, itemadapter, incremental, hyperlink, cryptography, constantly, Automat, Twisted, tldextract, service-identity, queuelib, pyOpenSSL, PyDispatcher, protego, itemloaders, scrapy\n",
            "Successfully installed Automat-20.2.0 PyDispatcher-2.0.5 Twisted-22.4.0 constantly-15.1.0 cryptography-37.0.4 cssselect-1.1.0 hyperlink-21.0.0 incremental-21.3.0 itemadapter-0.6.0 itemloaders-1.0.4 jmespath-1.0.1 parsel-1.6.0 protego-0.2.1 pyOpenSSL-22.0.0 queuelib-1.6.2 requests-file-1.5.1 scrapy-2.6.1 service-identity-21.1.0 tldextract-3.3.1 w3lib-1.22.0 zope.interface-5.4.0\n"
          ]
        }
      ],
      "source": [
        "!pip install scrapy"
      ]
    },
    {
      "cell_type": "code",
      "source": [
        "import scrapy\n",
        "from scrapy.crawler import CrawlerProcess"
      ],
      "metadata": {
        "id": "T2OaZArvgy-h"
      },
      "execution_count": 2,
      "outputs": []
    },
    {
      "cell_type": "markdown",
      "source": [
        "#Crawling data pada web pta\n",
        "\n",
        "\n",
        "Crawling sendiri adalah teknik pengumpulan data yang digunakan untuk mengindeks informasi pada halaman menggunakan URL dengan menyertakan API untuk melakukan penambangan dataset yang lebih besar."
      ],
      "metadata": {
        "id": "1vxJ-XW9hkKd"
      }
    },
    {
      "cell_type": "code",
      "source": [
        "class ScrapingWeb(scrapy.Spider):    \n",
        "    name = \"ptatrunojoyo\"\n",
        "    keyword = 'ekonomi'\n",
        "    start_urls = [\n",
        "        'https://pta.trunojoyo.ac.id/'+keyword\n",
        "        ]\n",
        "    custom_settings = {\n",
        "        'FEED_FORMAT': 'csv',\n",
        "        'FEED_URI': 'crawlingPTA.csv'\n",
        "        }\n",
        "    \n",
        "    def parse(self, response):\n",
        "        for data in response.css('div.sinfix'):\n",
        "            yield {\n",
        "            'judul':response.css('#content_journal > ul > li > div:nth-child(2) > a::text').extract(),\n",
        "            'Penulis':response.css('#content_journal > ul > li > div:nth-child(2) > div:nth-child(2) > span::text').extract(),\n",
        "            'Pembimbing 1':response.css('#content_journal > ul > li > div:nth-child(2) > div:nth-child(3) > span::text').extract(),\n",
        "            'Pembimbing 2':response.css('#content_journal > ul > li > div:nth-child(2) > div:nth-child(4) > span::text').extract(),\n",
        "            'Abstrak':response.css('#content_journal > ul > li > div:nth-child(4) > div:nth-child(2) > p::text').extract(),\n",
        "                }\n",
        "proses = CrawlerProcess()\n",
        "proses.crawl(ScrapingWeb)\n",
        "proses.start()"
      ],
      "metadata": {
        "colab": {
          "base_uri": "https://localhost:8080/"
        },
        "id": "GuhQNAhHhF-N",
        "outputId": "d5ec65dc-16b2-4c4a-b231-44ced807e31d"
      },
      "execution_count": 3,
      "outputs": [
        {
          "output_type": "stream",
          "name": "stderr",
          "text": [
            "2022-07-10 09:50:40 [scrapy.utils.log] INFO: Scrapy 2.6.1 started (bot: scrapybot)\n",
            "2022-07-10 09:50:40 [scrapy.utils.log] INFO: Versions: lxml 4.2.6.0, libxml2 2.9.8, cssselect 1.1.0, parsel 1.6.0, w3lib 1.22.0, Twisted 22.4.0, Python 3.7.13 (default, Apr 24 2022, 01:04:09) - [GCC 7.5.0], pyOpenSSL 22.0.0 (OpenSSL 3.0.5 5 Jul 2022), cryptography 37.0.4, Platform Linux-5.4.188+-x86_64-with-Ubuntu-18.04-bionic\n",
            "2022-07-10 09:50:40 [scrapy.crawler] INFO: Overridden settings:\n",
            "{}\n",
            "2022-07-10 09:50:40 [scrapy.utils.log] DEBUG: Using reactor: twisted.internet.epollreactor.EPollReactor\n",
            "2022-07-10 09:50:40 [scrapy.extensions.telnet] INFO: Telnet Password: 6cae722ed4b69f67\n",
            "/usr/local/lib/python3.7/dist-packages/scrapy/extensions/feedexport.py:289: ScrapyDeprecationWarning: The `FEED_URI` and `FEED_FORMAT` settings have been deprecated in favor of the `FEEDS` setting. Please see the `FEEDS` setting docs for more details\n",
            "  exporter = cls(crawler)\n",
            "2022-07-10 09:50:40 [scrapy.middleware] INFO: Enabled extensions:\n",
            "['scrapy.extensions.corestats.CoreStats',\n",
            " 'scrapy.extensions.telnet.TelnetConsole',\n",
            " 'scrapy.extensions.memusage.MemoryUsage',\n",
            " 'scrapy.extensions.feedexport.FeedExporter',\n",
            " 'scrapy.extensions.logstats.LogStats']\n",
            "2022-07-10 09:50:40 [scrapy.middleware] INFO: Enabled downloader middlewares:\n",
            "['scrapy.downloadermiddlewares.httpauth.HttpAuthMiddleware',\n",
            " 'scrapy.downloadermiddlewares.downloadtimeout.DownloadTimeoutMiddleware',\n",
            " 'scrapy.downloadermiddlewares.defaultheaders.DefaultHeadersMiddleware',\n",
            " 'scrapy.downloadermiddlewares.useragent.UserAgentMiddleware',\n",
            " 'scrapy.downloadermiddlewares.retry.RetryMiddleware',\n",
            " 'scrapy.downloadermiddlewares.redirect.MetaRefreshMiddleware',\n",
            " 'scrapy.downloadermiddlewares.httpcompression.HttpCompressionMiddleware',\n",
            " 'scrapy.downloadermiddlewares.redirect.RedirectMiddleware',\n",
            " 'scrapy.downloadermiddlewares.cookies.CookiesMiddleware',\n",
            " 'scrapy.downloadermiddlewares.httpproxy.HttpProxyMiddleware',\n",
            " 'scrapy.downloadermiddlewares.stats.DownloaderStats']\n",
            "2022-07-10 09:50:41 [scrapy.middleware] INFO: Enabled spider middlewares:\n",
            "['scrapy.spidermiddlewares.httperror.HttpErrorMiddleware',\n",
            " 'scrapy.spidermiddlewares.offsite.OffsiteMiddleware',\n",
            " 'scrapy.spidermiddlewares.referer.RefererMiddleware',\n",
            " 'scrapy.spidermiddlewares.urllength.UrlLengthMiddleware',\n",
            " 'scrapy.spidermiddlewares.depth.DepthMiddleware']\n",
            "2022-07-10 09:50:41 [scrapy.middleware] INFO: Enabled item pipelines:\n",
            "[]\n",
            "2022-07-10 09:50:41 [scrapy.core.engine] INFO: Spider opened\n",
            "2022-07-10 09:50:41 [scrapy.extensions.logstats] INFO: Crawled 0 pages (at 0 pages/min), scraped 0 items (at 0 items/min)\n",
            "2022-07-10 09:50:41 [scrapy.extensions.telnet] INFO: Telnet console listening on 127.0.0.1:6023\n",
            "2022-07-10 09:50:42 [scrapy.core.engine] DEBUG: Crawled (404) <GET https://pta.trunojoyo.ac.id/ekonomi> (referer: None)\n",
            "2022-07-10 09:50:42 [scrapy.spidermiddlewares.httperror] INFO: Ignoring response <404 https://pta.trunojoyo.ac.id/ekonomi>: HTTP status code is not handled or not allowed\n",
            "2022-07-10 09:50:42 [scrapy.core.engine] INFO: Closing spider (finished)\n",
            "2022-07-10 09:50:42 [scrapy.statscollectors] INFO: Dumping Scrapy stats:\n",
            "{'downloader/request_bytes': 226,\n",
            " 'downloader/request_count': 1,\n",
            " 'downloader/request_method_count/GET': 1,\n",
            " 'downloader/response_bytes': 891,\n",
            " 'downloader/response_count': 1,\n",
            " 'downloader/response_status_count/404': 1,\n",
            " 'elapsed_time_seconds': 1.204297,\n",
            " 'finish_reason': 'finished',\n",
            " 'finish_time': datetime.datetime(2022, 7, 10, 9, 50, 42, 381975),\n",
            " 'httpcompression/response_bytes': 1564,\n",
            " 'httpcompression/response_count': 1,\n",
            " 'httperror/response_ignored_count': 1,\n",
            " 'httperror/response_ignored_status_count/404': 1,\n",
            " 'log_count/DEBUG': 2,\n",
            " 'log_count/INFO': 11,\n",
            " 'memusage/max': 136814592,\n",
            " 'memusage/startup': 136814592,\n",
            " 'response_received_count': 1,\n",
            " 'scheduler/dequeued': 1,\n",
            " 'scheduler/dequeued/memory': 1,\n",
            " 'scheduler/enqueued': 1,\n",
            " 'scheduler/enqueued/memory': 1,\n",
            " 'start_time': datetime.datetime(2022, 7, 10, 9, 50, 41, 177678)}\n",
            "2022-07-10 09:50:42 [scrapy.core.engine] INFO: Spider closed (finished)\n"
          ]
        }
      ]
    },
    {
      "cell_type": "markdown",
      "source": [
        "#Install library yang digunakan"
      ],
      "metadata": {
        "id": "jJ0sjbOriQdy"
      }
    },
    {
      "cell_type": "code",
      "source": [
        "! pip install pandas\n",
        "! pip install numpy\n",
        "! pip install nltk\n",
        "! pip install swifter\n",
        "! pip install sastrawi\n",
        "! pip install Stemmer\n",
        "! pip install sklearn\n",
        "! pip install matplotlib\n",
        "! pip install seaborn"
      ],
      "metadata": {
        "colab": {
          "base_uri": "https://localhost:8080/",
          "height": 1000
        },
        "id": "kHd1NRSFiVw7",
        "outputId": "03bb84e6-5b62-4c36-a7cc-1ca0e95d2eda"
      },
      "execution_count": 4,
      "outputs": [
        {
          "output_type": "stream",
          "name": "stdout",
          "text": [
            "Looking in indexes: https://pypi.org/simple, https://us-python.pkg.dev/colab-wheels/public/simple/\n",
            "Requirement already satisfied: pandas in /usr/local/lib/python3.7/dist-packages (1.3.5)\n",
            "Requirement already satisfied: pytz>=2017.3 in /usr/local/lib/python3.7/dist-packages (from pandas) (2022.1)\n",
            "Requirement already satisfied: python-dateutil>=2.7.3 in /usr/local/lib/python3.7/dist-packages (from pandas) (2.8.2)\n",
            "Requirement already satisfied: numpy>=1.17.3 in /usr/local/lib/python3.7/dist-packages (from pandas) (1.21.6)\n",
            "Requirement already satisfied: six>=1.5 in /usr/local/lib/python3.7/dist-packages (from python-dateutil>=2.7.3->pandas) (1.15.0)\n",
            "Looking in indexes: https://pypi.org/simple, https://us-python.pkg.dev/colab-wheels/public/simple/\n",
            "Requirement already satisfied: numpy in /usr/local/lib/python3.7/dist-packages (1.21.6)\n",
            "Looking in indexes: https://pypi.org/simple, https://us-python.pkg.dev/colab-wheels/public/simple/\n",
            "Requirement already satisfied: nltk in /usr/local/lib/python3.7/dist-packages (3.7)\n",
            "Requirement already satisfied: click in /usr/local/lib/python3.7/dist-packages (from nltk) (7.1.2)\n",
            "Requirement already satisfied: joblib in /usr/local/lib/python3.7/dist-packages (from nltk) (1.1.0)\n",
            "Requirement already satisfied: regex>=2021.8.3 in /usr/local/lib/python3.7/dist-packages (from nltk) (2022.6.2)\n",
            "Requirement already satisfied: tqdm in /usr/local/lib/python3.7/dist-packages (from nltk) (4.64.0)\n",
            "Looking in indexes: https://pypi.org/simple, https://us-python.pkg.dev/colab-wheels/public/simple/\n",
            "Collecting swifter\n",
            "  Downloading swifter-1.2.0.tar.gz (658 kB)\n",
            "\u001b[K     |████████████████████████████████| 658 kB 9.8 MB/s \n",
            "\u001b[?25hRequirement already satisfied: pandas>=1.0.0 in /usr/local/lib/python3.7/dist-packages (from swifter) (1.3.5)\n",
            "Collecting psutil>=5.6.6\n",
            "  Downloading psutil-5.9.1-cp37-cp37m-manylinux_2_12_x86_64.manylinux2010_x86_64.manylinux_2_17_x86_64.manylinux2014_x86_64.whl (281 kB)\n",
            "\u001b[K     |████████████████████████████████| 281 kB 58.4 MB/s \n",
            "\u001b[?25hRequirement already satisfied: dask[dataframe]>=2.10.0 in /usr/local/lib/python3.7/dist-packages (from swifter) (2.12.0)\n",
            "Requirement already satisfied: tqdm>=4.33.0 in /usr/local/lib/python3.7/dist-packages (from swifter) (4.64.0)\n",
            "Requirement already satisfied: ipywidgets>=7.0.0 in /usr/local/lib/python3.7/dist-packages (from swifter) (7.7.0)\n",
            "Requirement already satisfied: cloudpickle>=0.2.2 in /usr/local/lib/python3.7/dist-packages (from swifter) (1.3.0)\n",
            "Requirement already satisfied: parso>0.4.0 in /usr/local/lib/python3.7/dist-packages (from swifter) (0.8.3)\n",
            "Requirement already satisfied: bleach>=3.1.1 in /usr/local/lib/python3.7/dist-packages (from swifter) (5.0.0)\n",
            "Requirement already satisfied: webencodings in /usr/local/lib/python3.7/dist-packages (from bleach>=3.1.1->swifter) (0.5.1)\n",
            "Requirement already satisfied: six>=1.9.0 in /usr/local/lib/python3.7/dist-packages (from bleach>=3.1.1->swifter) (1.15.0)\n",
            "Requirement already satisfied: numpy>=1.13.0 in /usr/local/lib/python3.7/dist-packages (from dask[dataframe]>=2.10.0->swifter) (1.21.6)\n",
            "Collecting fsspec>=0.6.0\n",
            "  Downloading fsspec-2022.5.0-py3-none-any.whl (140 kB)\n",
            "\u001b[K     |████████████████████████████████| 140 kB 58.6 MB/s \n",
            "\u001b[?25hCollecting partd>=0.3.10\n",
            "  Downloading partd-1.2.0-py3-none-any.whl (19 kB)\n",
            "Requirement already satisfied: toolz>=0.7.3 in /usr/local/lib/python3.7/dist-packages (from dask[dataframe]>=2.10.0->swifter) (0.11.2)\n",
            "Requirement already satisfied: nbformat>=4.2.0 in /usr/local/lib/python3.7/dist-packages (from ipywidgets>=7.0.0->swifter) (5.4.0)\n",
            "Requirement already satisfied: traitlets>=4.3.1 in /usr/local/lib/python3.7/dist-packages (from ipywidgets>=7.0.0->swifter) (5.1.1)\n",
            "Requirement already satisfied: ipykernel>=4.5.1 in /usr/local/lib/python3.7/dist-packages (from ipywidgets>=7.0.0->swifter) (4.10.1)\n",
            "Requirement already satisfied: ipython>=4.0.0 in /usr/local/lib/python3.7/dist-packages (from ipywidgets>=7.0.0->swifter) (5.5.0)\n",
            "Requirement already satisfied: jupyterlab-widgets>=1.0.0 in /usr/local/lib/python3.7/dist-packages (from ipywidgets>=7.0.0->swifter) (1.1.0)\n",
            "Requirement already satisfied: widgetsnbextension~=3.6.0 in /usr/local/lib/python3.7/dist-packages (from ipywidgets>=7.0.0->swifter) (3.6.0)\n",
            "Requirement already satisfied: ipython-genutils~=0.2.0 in /usr/local/lib/python3.7/dist-packages (from ipywidgets>=7.0.0->swifter) (0.2.0)\n",
            "Requirement already satisfied: jupyter-client in /usr/local/lib/python3.7/dist-packages (from ipykernel>=4.5.1->ipywidgets>=7.0.0->swifter) (5.3.5)\n",
            "Requirement already satisfied: tornado>=4.0 in /usr/local/lib/python3.7/dist-packages (from ipykernel>=4.5.1->ipywidgets>=7.0.0->swifter) (5.1.1)\n",
            "Requirement already satisfied: pickleshare in /usr/local/lib/python3.7/dist-packages (from ipython>=4.0.0->ipywidgets>=7.0.0->swifter) (0.7.5)\n",
            "Requirement already satisfied: pygments in /usr/local/lib/python3.7/dist-packages (from ipython>=4.0.0->ipywidgets>=7.0.0->swifter) (2.6.1)\n",
            "Requirement already satisfied: simplegeneric>0.8 in /usr/local/lib/python3.7/dist-packages (from ipython>=4.0.0->ipywidgets>=7.0.0->swifter) (0.8.1)\n",
            "Requirement already satisfied: decorator in /usr/local/lib/python3.7/dist-packages (from ipython>=4.0.0->ipywidgets>=7.0.0->swifter) (4.4.2)\n",
            "Requirement already satisfied: setuptools>=18.5 in /usr/local/lib/python3.7/dist-packages (from ipython>=4.0.0->ipywidgets>=7.0.0->swifter) (57.4.0)\n",
            "Requirement already satisfied: pexpect in /usr/local/lib/python3.7/dist-packages (from ipython>=4.0.0->ipywidgets>=7.0.0->swifter) (4.8.0)\n",
            "Requirement already satisfied: prompt-toolkit<2.0.0,>=1.0.4 in /usr/local/lib/python3.7/dist-packages (from ipython>=4.0.0->ipywidgets>=7.0.0->swifter) (1.0.18)\n",
            "Requirement already satisfied: fastjsonschema in /usr/local/lib/python3.7/dist-packages (from nbformat>=4.2.0->ipywidgets>=7.0.0->swifter) (2.15.3)\n",
            "Requirement already satisfied: jsonschema>=2.6 in /usr/local/lib/python3.7/dist-packages (from nbformat>=4.2.0->ipywidgets>=7.0.0->swifter) (4.3.3)\n",
            "Requirement already satisfied: jupyter-core in /usr/local/lib/python3.7/dist-packages (from nbformat>=4.2.0->ipywidgets>=7.0.0->swifter) (4.10.0)\n",
            "Requirement already satisfied: importlib-metadata in /usr/local/lib/python3.7/dist-packages (from jsonschema>=2.6->nbformat>=4.2.0->ipywidgets>=7.0.0->swifter) (4.11.4)\n",
            "Requirement already satisfied: typing-extensions in /usr/local/lib/python3.7/dist-packages (from jsonschema>=2.6->nbformat>=4.2.0->ipywidgets>=7.0.0->swifter) (4.1.1)\n",
            "Requirement already satisfied: attrs>=17.4.0 in /usr/local/lib/python3.7/dist-packages (from jsonschema>=2.6->nbformat>=4.2.0->ipywidgets>=7.0.0->swifter) (21.4.0)\n",
            "Requirement already satisfied: pyrsistent!=0.17.0,!=0.17.1,!=0.17.2,>=0.14.0 in /usr/local/lib/python3.7/dist-packages (from jsonschema>=2.6->nbformat>=4.2.0->ipywidgets>=7.0.0->swifter) (0.18.1)\n",
            "Requirement already satisfied: importlib-resources>=1.4.0 in /usr/local/lib/python3.7/dist-packages (from jsonschema>=2.6->nbformat>=4.2.0->ipywidgets>=7.0.0->swifter) (5.7.1)\n",
            "Requirement already satisfied: zipp>=3.1.0 in /usr/local/lib/python3.7/dist-packages (from importlib-resources>=1.4.0->jsonschema>=2.6->nbformat>=4.2.0->ipywidgets>=7.0.0->swifter) (3.8.0)\n",
            "Requirement already satisfied: pytz>=2017.3 in /usr/local/lib/python3.7/dist-packages (from pandas>=1.0.0->swifter) (2022.1)\n",
            "Requirement already satisfied: python-dateutil>=2.7.3 in /usr/local/lib/python3.7/dist-packages (from pandas>=1.0.0->swifter) (2.8.2)\n",
            "Collecting locket\n",
            "  Downloading locket-1.0.0-py2.py3-none-any.whl (4.4 kB)\n",
            "Requirement already satisfied: wcwidth in /usr/local/lib/python3.7/dist-packages (from prompt-toolkit<2.0.0,>=1.0.4->ipython>=4.0.0->ipywidgets>=7.0.0->swifter) (0.2.5)\n",
            "Requirement already satisfied: notebook>=4.4.1 in /usr/local/lib/python3.7/dist-packages (from widgetsnbextension~=3.6.0->ipywidgets>=7.0.0->swifter) (5.3.1)\n",
            "Requirement already satisfied: nbconvert in /usr/local/lib/python3.7/dist-packages (from notebook>=4.4.1->widgetsnbextension~=3.6.0->ipywidgets>=7.0.0->swifter) (5.6.1)\n",
            "Requirement already satisfied: terminado>=0.8.1 in /usr/local/lib/python3.7/dist-packages (from notebook>=4.4.1->widgetsnbextension~=3.6.0->ipywidgets>=7.0.0->swifter) (0.13.3)\n",
            "Requirement already satisfied: Send2Trash in /usr/local/lib/python3.7/dist-packages (from notebook>=4.4.1->widgetsnbextension~=3.6.0->ipywidgets>=7.0.0->swifter) (1.8.0)\n",
            "Requirement already satisfied: jinja2 in /usr/local/lib/python3.7/dist-packages (from notebook>=4.4.1->widgetsnbextension~=3.6.0->ipywidgets>=7.0.0->swifter) (2.11.3)\n",
            "Requirement already satisfied: pyzmq>=13 in /usr/local/lib/python3.7/dist-packages (from jupyter-client->ipykernel>=4.5.1->ipywidgets>=7.0.0->swifter) (23.1.0)\n",
            "Requirement already satisfied: ptyprocess in /usr/local/lib/python3.7/dist-packages (from terminado>=0.8.1->notebook>=4.4.1->widgetsnbextension~=3.6.0->ipywidgets>=7.0.0->swifter) (0.7.0)\n",
            "Requirement already satisfied: MarkupSafe>=0.23 in /usr/local/lib/python3.7/dist-packages (from jinja2->notebook>=4.4.1->widgetsnbextension~=3.6.0->ipywidgets>=7.0.0->swifter) (2.0.1)\n",
            "Requirement already satisfied: mistune<2,>=0.8.1 in /usr/local/lib/python3.7/dist-packages (from nbconvert->notebook>=4.4.1->widgetsnbextension~=3.6.0->ipywidgets>=7.0.0->swifter) (0.8.4)\n",
            "Requirement already satisfied: pandocfilters>=1.4.1 in /usr/local/lib/python3.7/dist-packages (from nbconvert->notebook>=4.4.1->widgetsnbextension~=3.6.0->ipywidgets>=7.0.0->swifter) (1.5.0)\n",
            "Requirement already satisfied: defusedxml in /usr/local/lib/python3.7/dist-packages (from nbconvert->notebook>=4.4.1->widgetsnbextension~=3.6.0->ipywidgets>=7.0.0->swifter) (0.7.1)\n",
            "Requirement already satisfied: testpath in /usr/local/lib/python3.7/dist-packages (from nbconvert->notebook>=4.4.1->widgetsnbextension~=3.6.0->ipywidgets>=7.0.0->swifter) (0.6.0)\n",
            "Requirement already satisfied: entrypoints>=0.2.2 in /usr/local/lib/python3.7/dist-packages (from nbconvert->notebook>=4.4.1->widgetsnbextension~=3.6.0->ipywidgets>=7.0.0->swifter) (0.4)\n",
            "Building wheels for collected packages: swifter\n",
            "  Building wheel for swifter (setup.py) ... \u001b[?25l\u001b[?25hdone\n",
            "  Created wheel for swifter: filename=swifter-1.2.0-py3-none-any.whl size=14498 sha256=60d076650fa0445fedbebb0404bc2a99673a91a2989284247d084ead0bf3ec0b\n",
            "  Stored in directory: /root/.cache/pip/wheels/b9/c9/ba/10a8fa98de369cd9ed7ff820e6a174cb63a30056b838a0150e\n",
            "Successfully built swifter\n",
            "Installing collected packages: locket, partd, fsspec, psutil, swifter\n",
            "  Attempting uninstall: psutil\n",
            "    Found existing installation: psutil 5.4.8\n",
            "    Uninstalling psutil-5.4.8:\n",
            "      Successfully uninstalled psutil-5.4.8\n",
            "Successfully installed fsspec-2022.5.0 locket-1.0.0 partd-1.2.0 psutil-5.9.1 swifter-1.2.0\n"
          ]
        },
        {
          "output_type": "display_data",
          "data": {
            "application/vnd.colab-display-data+json": {
              "pip_warning": {
                "packages": [
                  "psutil"
                ]
              }
            }
          },
          "metadata": {}
        },
        {
          "output_type": "stream",
          "name": "stdout",
          "text": [
            "Looking in indexes: https://pypi.org/simple, https://us-python.pkg.dev/colab-wheels/public/simple/\n",
            "Collecting sastrawi\n",
            "  Downloading Sastrawi-1.0.1-py2.py3-none-any.whl (209 kB)\n",
            "\u001b[K     |████████████████████████████████| 209 kB 7.4 MB/s \n",
            "\u001b[?25hInstalling collected packages: sastrawi\n",
            "Successfully installed sastrawi-1.0.1\n",
            "Looking in indexes: https://pypi.org/simple, https://us-python.pkg.dev/colab-wheels/public/simple/\n",
            "\u001b[31mERROR: Could not find a version that satisfies the requirement Stemmer (from versions: none)\u001b[0m\n",
            "\u001b[31mERROR: No matching distribution found for Stemmer\u001b[0m\n",
            "Looking in indexes: https://pypi.org/simple, https://us-python.pkg.dev/colab-wheels/public/simple/\n",
            "Requirement already satisfied: sklearn in /usr/local/lib/python3.7/dist-packages (0.0)\n",
            "Requirement already satisfied: scikit-learn in /usr/local/lib/python3.7/dist-packages (from sklearn) (1.0.2)\n",
            "Requirement already satisfied: numpy>=1.14.6 in /usr/local/lib/python3.7/dist-packages (from scikit-learn->sklearn) (1.21.6)\n",
            "Requirement already satisfied: joblib>=0.11 in /usr/local/lib/python3.7/dist-packages (from scikit-learn->sklearn) (1.1.0)\n",
            "Requirement already satisfied: scipy>=1.1.0 in /usr/local/lib/python3.7/dist-packages (from scikit-learn->sklearn) (1.4.1)\n",
            "Requirement already satisfied: threadpoolctl>=2.0.0 in /usr/local/lib/python3.7/dist-packages (from scikit-learn->sklearn) (3.1.0)\n",
            "Looking in indexes: https://pypi.org/simple, https://us-python.pkg.dev/colab-wheels/public/simple/\n",
            "Requirement already satisfied: matplotlib in /usr/local/lib/python3.7/dist-packages (3.2.2)\n",
            "Requirement already satisfied: kiwisolver>=1.0.1 in /usr/local/lib/python3.7/dist-packages (from matplotlib) (1.4.3)\n",
            "Requirement already satisfied: pyparsing!=2.0.4,!=2.1.2,!=2.1.6,>=2.0.1 in /usr/local/lib/python3.7/dist-packages (from matplotlib) (3.0.9)\n",
            "Requirement already satisfied: python-dateutil>=2.1 in /usr/local/lib/python3.7/dist-packages (from matplotlib) (2.8.2)\n",
            "Requirement already satisfied: numpy>=1.11 in /usr/local/lib/python3.7/dist-packages (from matplotlib) (1.21.6)\n",
            "Requirement already satisfied: cycler>=0.10 in /usr/local/lib/python3.7/dist-packages (from matplotlib) (0.11.0)\n",
            "Requirement already satisfied: typing-extensions in /usr/local/lib/python3.7/dist-packages (from kiwisolver>=1.0.1->matplotlib) (4.1.1)\n",
            "Requirement already satisfied: six>=1.5 in /usr/local/lib/python3.7/dist-packages (from python-dateutil>=2.1->matplotlib) (1.15.0)\n",
            "Looking in indexes: https://pypi.org/simple, https://us-python.pkg.dev/colab-wheels/public/simple/\n",
            "Requirement already satisfied: seaborn in /usr/local/lib/python3.7/dist-packages (0.11.2)\n",
            "Requirement already satisfied: matplotlib>=2.2 in /usr/local/lib/python3.7/dist-packages (from seaborn) (3.2.2)\n",
            "Requirement already satisfied: numpy>=1.15 in /usr/local/lib/python3.7/dist-packages (from seaborn) (1.21.6)\n",
            "Requirement already satisfied: scipy>=1.0 in /usr/local/lib/python3.7/dist-packages (from seaborn) (1.4.1)\n",
            "Requirement already satisfied: pandas>=0.23 in /usr/local/lib/python3.7/dist-packages (from seaborn) (1.3.5)\n",
            "Requirement already satisfied: pyparsing!=2.0.4,!=2.1.2,!=2.1.6,>=2.0.1 in /usr/local/lib/python3.7/dist-packages (from matplotlib>=2.2->seaborn) (3.0.9)\n",
            "Requirement already satisfied: kiwisolver>=1.0.1 in /usr/local/lib/python3.7/dist-packages (from matplotlib>=2.2->seaborn) (1.4.3)\n",
            "Requirement already satisfied: cycler>=0.10 in /usr/local/lib/python3.7/dist-packages (from matplotlib>=2.2->seaborn) (0.11.0)\n",
            "Requirement already satisfied: python-dateutil>=2.1 in /usr/local/lib/python3.7/dist-packages (from matplotlib>=2.2->seaborn) (2.8.2)\n",
            "Requirement already satisfied: typing-extensions in /usr/local/lib/python3.7/dist-packages (from kiwisolver>=1.0.1->matplotlib>=2.2->seaborn) (4.1.1)\n",
            "Requirement already satisfied: pytz>=2017.3 in /usr/local/lib/python3.7/dist-packages (from pandas>=0.23->seaborn) (2022.1)\n",
            "Requirement already satisfied: six>=1.5 in /usr/local/lib/python3.7/dist-packages (from python-dateutil>=2.1->matplotlib>=2.2->seaborn) (1.15.0)\n"
          ]
        }
      ]
    },
    {
      "cell_type": "markdown",
      "source": [
        "#Mengimport Modul"
      ],
      "metadata": {
        "id": "_jvDBHiTiypZ"
      }
    },
    {
      "cell_type": "markdown",
      "source": [
        "Numpy: library Python yang fokus pada scientific computing dan memiliki kemampuan untuk membentuk objek N-dimensional array, yang mirip dengan list pada Python. Keunggulan NumPy array dibandingkan dengan list pada Python adalah konsumsi memory yang lebih kecil serta runtime yang lebih cepat.\n",
        "\n",
        "Pandas: library Python yang fokus untuk proses analisis data seperti manipulasi data, persiapan data, dan pembersihan data. Pandas menyediakan struktur data dan fungsi high-level untuk membuat data lebih terstruktur, lebih cepat, mudah. Dalam pandas terdapat dua objek yang sering dibahas, yaitu DataFrame dan Series.\n",
        "\n",
        "matplotlib.pyplot: kumpulan fungsi yang membuat beberapa perubahan pada gambar. misalnya membuat gambar, membuat area plot dalam gambar, menambah label di plot dan lainnya. Biasanya untuk mempermudah secara umum matplotlib.pyplot disingkat menjadi plt import matplotlib.pyplot as plt\n",
        "\n",
        "Matplotlib: library Python yang fokus pada visualisasi data yang biasa difungsikan membuat plot grafik. matplotlib tersebut dipanggil dan dilakukan import style.\n",
        "\n",
        "Seaborn: memiliki banyak fungsi untuk visualisasi data dan lebih mudah digunakan."
      ],
      "metadata": {
        "id": "7-6oa80Nj8rU"
      }
    },
    {
      "cell_type": "code",
      "source": [
        "# data visualisation and manipulation\n",
        "import numpy as np\n",
        "import pandas as pd\n",
        "import matplotlib.pyplot as plt\n",
        "from matplotlib import style\n",
        "import seaborn as sns"
      ],
      "metadata": {
        "colab": {
          "base_uri": "https://localhost:8080/"
        },
        "id": "y6D2xMnti1ck",
        "outputId": "2652cd64-5c2c-4b90-96f7-d5a835fbcb77"
      },
      "execution_count": 5,
      "outputs": [
        {
          "output_type": "stream",
          "name": "stderr",
          "text": [
            "2022-07-10 10:04:59 [numexpr.utils] INFO: NumExpr defaulting to 2 threads.\n"
          ]
        }
      ]
    },
    {
      "cell_type": "code",
      "source": [
        "import nltk\n",
        "nltk.download('stopwords')"
      ],
      "metadata": {
        "colab": {
          "base_uri": "https://localhost:8080/"
        },
        "id": "46UagtKRkiXd",
        "outputId": "13eee644-15ce-4459-ba0e-7ed0353b6ac5"
      },
      "execution_count": 6,
      "outputs": [
        {
          "output_type": "stream",
          "name": "stderr",
          "text": [
            "[nltk_data] Downloading package stopwords to /root/nltk_data...\n",
            "[nltk_data]   Unzipping corpora/stopwords.zip.\n"
          ]
        },
        {
          "output_type": "execute_result",
          "data": {
            "text/plain": [
              "True"
            ]
          },
          "metadata": {},
          "execution_count": 6
        }
      ]
    },
    {
      "cell_type": "markdown",
      "source": [
        "#Persiapan Preprocessing"
      ],
      "metadata": {
        "id": "JE9TRKsalILW"
      }
    },
    {
      "cell_type": "markdown",
      "source": [
        "Preprocessing Data merupakan tahapan dalam melakukan mining data. Data Preprocessing atau praproses data biasanya dilakukan melalui cara eliminasi data yang tidak sesuai.\n",
        "\n",
        "Stopwords di nltk adalah kata yang paling umum dalam data. Itu adalah kata-kata yang tidak ingin digunakan untuk menggambarkan topik data dan telah ditentukan sebelumnya juga tidak dapat dihapus.\n",
        "\n",
        "Tokenization pada dasarnya mengacu pada pemisahan teks yang lebih besar menjadi baris yang lebih kecil, kata-kata atau bahkan membuat kata-kata untuk bahasa non-Inggris."
      ],
      "metadata": {
        "id": "BK0SL5gulQbn"
      }
    },
    {
      "cell_type": "code",
      "source": [
        "#configure\n",
        "# sets matplotlib to inline and displays graphs below the corressponding cell.\n",
        "%matplotlib inline  \n",
        "style.use('fivethirtyeight')\n",
        "sns.set(style='whitegrid',color_codes=True)\n",
        "\n",
        "#import nltk\n",
        "import nltk\n",
        "from nltk.corpus import stopwords\n",
        "from nltk.tokenize import word_tokenize,sent_tokenize\n",
        "\n",
        "#preprocessing\n",
        "from nltk.corpus import stopwords  #stopwords\n",
        "from nltk import word_tokenize,sent_tokenize # tokenizing\n",
        "from nltk.stem import PorterStemmer,LancasterStemmer  # using the Porter Stemmer and Lancaster Stemmer and others\n",
        "from nltk.stem.snowball import SnowballStemmer\n",
        "from nltk.stem import WordNetLemmatizer  # lammatizer from WordNet\n",
        "\n",
        "# for named entity recognition (NER)\n",
        "from nltk import ne_chunk\n",
        "\n",
        "# vectorizers for creating the document-term-matrix (DTM)\n",
        "from sklearn.feature_extraction.text import TfidfVectorizer,CountVectorizer\n",
        "\n",
        "#stop-words\n",
        "stop_words=set(nltk.corpus.stopwords.words('english'))"
      ],
      "metadata": {
        "colab": {
          "base_uri": "https://localhost:8080/"
        },
        "id": "CqoiqqGMk1Y-",
        "outputId": "560b82e1-4c08-4ac3-b03c-487c40a64fa4"
      },
      "execution_count": 7,
      "outputs": [
        {
          "output_type": "stream",
          "name": "stderr",
          "text": [
            "2022-07-10 10:07:34 [matplotlib.pyplot] DEBUG: Loaded backend module://ipykernel.pylab.backend_inline version unknown.\n"
          ]
        }
      ]
    },
    {
      "cell_type": "markdown",
      "source": [
        "#Read Dataset"
      ],
      "metadata": {
        "id": "lKMQSA6Xlfx6"
      }
    },
    {
      "cell_type": "code",
      "source": [
        "df=pd.read_csv(r'crawlingPTA.csv')\n",
        "df.head()"
      ],
      "metadata": {
        "colab": {
          "base_uri": "https://localhost:8080/",
          "height": 389
        },
        "id": "yk21v75IlTxz",
        "outputId": "26603345-4213-40b2-c233-17170dd3a412"
      },
      "execution_count": 8,
      "outputs": [
        {
          "output_type": "execute_result",
          "data": {
            "text/plain": [
              "                                               Judul                  Penulis  \\\n",
              "0  PENGARUH KEPEMIMPINAN DAN KOMPENSASI TERHADAP ...  Hendri Wahyudi Prayitno   \n",
              "1  Pengukuran Website Quality Pada Situs Sistem A...   Muhammad Zakaria Utomo   \n",
              "2  PENGARUH PERSEPSI MANFAAT, PERSEPSI KEMUDAHAN,...                    Ahmad   \n",
              "3  PENGARUH PENGEMBANGAN KARIR TERHADAP SEMANGAT ...         Danial Aziz M.YD   \n",
              "4  PENGARUH FAKTOR-FAKTOR STRES KERJA TERHADAP DI...            Saiful Rahman   \n",
              "\n",
              "                                Dospem 1                            Dospem 2  \\\n",
              "0      Dra. Hj. S Anugrahini Irawati, MM      Helmi Buyung Aulia,S,ST,SE,.MT   \n",
              "1            Dr. Ir. Nurita Andriani, MM           Nirma Kurriwati, SP, M.Si   \n",
              "2      Bambang Setiyo Pambudi, S.E., MM.                Fathor AS, S.E., MM.   \n",
              "3         Dr. Hj. Iriani Ismail, Dra.,MM     Drs. Ec. Mudji Kuswinarno, M.Si   \n",
              "4  Dr. Muhammad Alkirom Wildan,S.E.,M.Si  Helmi Buyung Aulia,S.ST.,S.E.,M.MT   \n",
              "\n",
              "                                           Abstraksi  \\\n",
              "0  Abstrak\\r\\nPenelitian ini menggunakan metode k...   \n",
              "1  Aplikasi nyata pemanfaatan teknologi informasi...   \n",
              "2  Tujuan penelitian ini adalah untuk mengidentif...   \n",
              "3  PLN merupakan Badan Usaha Milik Negara yang be...   \n",
              "4  \\r\\n\\r\\nPenelitian ini bertujuan untuk mengeta...   \n",
              "\n",
              "                                         Abstraction  \\\n",
              "0  Abstract\\r\\nThis research use quantitative met...   \n",
              "1  Academic portal system in University of Trunoj...   \n",
              "2  The purpose of this research was to identify v...   \n",
              "3  PLN is a state-owned enterprise dealy with the...   \n",
              "4  \\r\\n\\r\\nThis study aimed to determine the effe...   \n",
              "\n",
              "                                       Link Download  \n",
              "0  https://pta.trunojoyo.ac.id/uploads/journals/0...  \n",
              "1  https://pta.trunojoyo.ac.id/uploads/journals/1...  \n",
              "2  https://pta.trunojoyo.ac.id/uploads/journals/0...  \n",
              "3  https://pta.trunojoyo.ac.id/uploads/journals/0...  \n",
              "4  https://pta.trunojoyo.ac.id/uploads/journals/0...  "
            ],
            "text/html": [
              "\n",
              "  <div id=\"df-466e7b41-9ec7-48c5-91e6-e6d2c9312af3\">\n",
              "    <div class=\"colab-df-container\">\n",
              "      <div>\n",
              "<style scoped>\n",
              "    .dataframe tbody tr th:only-of-type {\n",
              "        vertical-align: middle;\n",
              "    }\n",
              "\n",
              "    .dataframe tbody tr th {\n",
              "        vertical-align: top;\n",
              "    }\n",
              "\n",
              "    .dataframe thead th {\n",
              "        text-align: right;\n",
              "    }\n",
              "</style>\n",
              "<table border=\"1\" class=\"dataframe\">\n",
              "  <thead>\n",
              "    <tr style=\"text-align: right;\">\n",
              "      <th></th>\n",
              "      <th>Judul</th>\n",
              "      <th>Penulis</th>\n",
              "      <th>Dospem 1</th>\n",
              "      <th>Dospem 2</th>\n",
              "      <th>Abstraksi</th>\n",
              "      <th>Abstraction</th>\n",
              "      <th>Link Download</th>\n",
              "    </tr>\n",
              "  </thead>\n",
              "  <tbody>\n",
              "    <tr>\n",
              "      <th>0</th>\n",
              "      <td>PENGARUH KEPEMIMPINAN DAN KOMPENSASI TERHADAP ...</td>\n",
              "      <td>Hendri Wahyudi Prayitno</td>\n",
              "      <td>Dra. Hj. S Anugrahini Irawati, MM</td>\n",
              "      <td>Helmi Buyung Aulia,S,ST,SE,.MT</td>\n",
              "      <td>Abstrak\\r\\nPenelitian ini menggunakan metode k...</td>\n",
              "      <td>Abstract\\r\\nThis research use quantitative met...</td>\n",
              "      <td>https://pta.trunojoyo.ac.id/uploads/journals/0...</td>\n",
              "    </tr>\n",
              "    <tr>\n",
              "      <th>1</th>\n",
              "      <td>Pengukuran Website Quality Pada Situs Sistem A...</td>\n",
              "      <td>Muhammad Zakaria Utomo</td>\n",
              "      <td>Dr. Ir. Nurita Andriani, MM</td>\n",
              "      <td>Nirma Kurriwati, SP, M.Si</td>\n",
              "      <td>Aplikasi nyata pemanfaatan teknologi informasi...</td>\n",
              "      <td>Academic portal system in University of Trunoj...</td>\n",
              "      <td>https://pta.trunojoyo.ac.id/uploads/journals/1...</td>\n",
              "    </tr>\n",
              "    <tr>\n",
              "      <th>2</th>\n",
              "      <td>PENGARUH PERSEPSI MANFAAT, PERSEPSI KEMUDAHAN,...</td>\n",
              "      <td>Ahmad</td>\n",
              "      <td>Bambang Setiyo Pambudi, S.E., MM.</td>\n",
              "      <td>Fathor AS, S.E., MM.</td>\n",
              "      <td>Tujuan penelitian ini adalah untuk mengidentif...</td>\n",
              "      <td>The purpose of this research was to identify v...</td>\n",
              "      <td>https://pta.trunojoyo.ac.id/uploads/journals/0...</td>\n",
              "    </tr>\n",
              "    <tr>\n",
              "      <th>3</th>\n",
              "      <td>PENGARUH PENGEMBANGAN KARIR TERHADAP SEMANGAT ...</td>\n",
              "      <td>Danial Aziz M.YD</td>\n",
              "      <td>Dr. Hj. Iriani Ismail, Dra.,MM</td>\n",
              "      <td>Drs. Ec. Mudji Kuswinarno, M.Si</td>\n",
              "      <td>PLN merupakan Badan Usaha Milik Negara yang be...</td>\n",
              "      <td>PLN is a state-owned enterprise dealy with the...</td>\n",
              "      <td>https://pta.trunojoyo.ac.id/uploads/journals/0...</td>\n",
              "    </tr>\n",
              "    <tr>\n",
              "      <th>4</th>\n",
              "      <td>PENGARUH FAKTOR-FAKTOR STRES KERJA TERHADAP DI...</td>\n",
              "      <td>Saiful Rahman</td>\n",
              "      <td>Dr. Muhammad Alkirom Wildan,S.E.,M.Si</td>\n",
              "      <td>Helmi Buyung Aulia,S.ST.,S.E.,M.MT</td>\n",
              "      <td>\\r\\n\\r\\nPenelitian ini bertujuan untuk mengeta...</td>\n",
              "      <td>\\r\\n\\r\\nThis study aimed to determine the effe...</td>\n",
              "      <td>https://pta.trunojoyo.ac.id/uploads/journals/0...</td>\n",
              "    </tr>\n",
              "  </tbody>\n",
              "</table>\n",
              "</div>\n",
              "      <button class=\"colab-df-convert\" onclick=\"convertToInteractive('df-466e7b41-9ec7-48c5-91e6-e6d2c9312af3')\"\n",
              "              title=\"Convert this dataframe to an interactive table.\"\n",
              "              style=\"display:none;\">\n",
              "        \n",
              "  <svg xmlns=\"http://www.w3.org/2000/svg\" height=\"24px\"viewBox=\"0 0 24 24\"\n",
              "       width=\"24px\">\n",
              "    <path d=\"M0 0h24v24H0V0z\" fill=\"none\"/>\n",
              "    <path d=\"M18.56 5.44l.94 2.06.94-2.06 2.06-.94-2.06-.94-.94-2.06-.94 2.06-2.06.94zm-11 1L8.5 8.5l.94-2.06 2.06-.94-2.06-.94L8.5 2.5l-.94 2.06-2.06.94zm10 10l.94 2.06.94-2.06 2.06-.94-2.06-.94-.94-2.06-.94 2.06-2.06.94z\"/><path d=\"M17.41 7.96l-1.37-1.37c-.4-.4-.92-.59-1.43-.59-.52 0-1.04.2-1.43.59L10.3 9.45l-7.72 7.72c-.78.78-.78 2.05 0 2.83L4 21.41c.39.39.9.59 1.41.59.51 0 1.02-.2 1.41-.59l7.78-7.78 2.81-2.81c.8-.78.8-2.07 0-2.86zM5.41 20L4 18.59l7.72-7.72 1.47 1.35L5.41 20z\"/>\n",
              "  </svg>\n",
              "      </button>\n",
              "      \n",
              "  <style>\n",
              "    .colab-df-container {\n",
              "      display:flex;\n",
              "      flex-wrap:wrap;\n",
              "      gap: 12px;\n",
              "    }\n",
              "\n",
              "    .colab-df-convert {\n",
              "      background-color: #E8F0FE;\n",
              "      border: none;\n",
              "      border-radius: 50%;\n",
              "      cursor: pointer;\n",
              "      display: none;\n",
              "      fill: #1967D2;\n",
              "      height: 32px;\n",
              "      padding: 0 0 0 0;\n",
              "      width: 32px;\n",
              "    }\n",
              "\n",
              "    .colab-df-convert:hover {\n",
              "      background-color: #E2EBFA;\n",
              "      box-shadow: 0px 1px 2px rgba(60, 64, 67, 0.3), 0px 1px 3px 1px rgba(60, 64, 67, 0.15);\n",
              "      fill: #174EA6;\n",
              "    }\n",
              "\n",
              "    [theme=dark] .colab-df-convert {\n",
              "      background-color: #3B4455;\n",
              "      fill: #D2E3FC;\n",
              "    }\n",
              "\n",
              "    [theme=dark] .colab-df-convert:hover {\n",
              "      background-color: #434B5C;\n",
              "      box-shadow: 0px 1px 3px 1px rgba(0, 0, 0, 0.15);\n",
              "      filter: drop-shadow(0px 1px 2px rgba(0, 0, 0, 0.3));\n",
              "      fill: #FFFFFF;\n",
              "    }\n",
              "  </style>\n",
              "\n",
              "      <script>\n",
              "        const buttonEl =\n",
              "          document.querySelector('#df-466e7b41-9ec7-48c5-91e6-e6d2c9312af3 button.colab-df-convert');\n",
              "        buttonEl.style.display =\n",
              "          google.colab.kernel.accessAllowed ? 'block' : 'none';\n",
              "\n",
              "        async function convertToInteractive(key) {\n",
              "          const element = document.querySelector('#df-466e7b41-9ec7-48c5-91e6-e6d2c9312af3');\n",
              "          const dataTable =\n",
              "            await google.colab.kernel.invokeFunction('convertToInteractive',\n",
              "                                                     [key], {});\n",
              "          if (!dataTable) return;\n",
              "\n",
              "          const docLinkHtml = 'Like what you see? Visit the ' +\n",
              "            '<a target=\"_blank\" href=https://colab.research.google.com/notebooks/data_table.ipynb>data table notebook</a>'\n",
              "            + ' to learn more about interactive tables.';\n",
              "          element.innerHTML = '';\n",
              "          dataTable['output_type'] = 'display_data';\n",
              "          await google.colab.output.renderOutput(dataTable, element);\n",
              "          const docLink = document.createElement('div');\n",
              "          docLink.innerHTML = docLinkHtml;\n",
              "          element.appendChild(docLink);\n",
              "        }\n",
              "      </script>\n",
              "    </div>\n",
              "  </div>\n",
              "  "
            ]
          },
          "metadata": {},
          "execution_count": 8
        }
      ]
    },
    {
      "cell_type": "markdown",
      "source": [
        "**Lakukan drop kolom pada judul, penulis, Dospem 1, Dospem 2, Abstraction, dan Link Download karena yang akan diproses datanya disini adalah Abstraksi.**"
      ],
      "metadata": {
        "id": "aEx46Gy9n3P8"
      }
    },
    {
      "cell_type": "code",
      "source": [
        "# drop judul, waktu, kategori\n",
        "df.drop(['Judul','Penulis','Dospem 1', 'Dospem 2', 'Abstraction','Link Download'],axis=1,inplace=True)"
      ],
      "metadata": {
        "id": "RckDMEvyn7zB"
      },
      "execution_count": 9,
      "outputs": []
    },
    {
      "cell_type": "code",
      "source": [
        "df.head()"
      ],
      "metadata": {
        "colab": {
          "base_uri": "https://localhost:8080/",
          "height": 206
        },
        "id": "Uu2LP7IAoXUk",
        "outputId": "ae91159d-adaa-4a06-c5ba-9281a2edb298"
      },
      "execution_count": 10,
      "outputs": [
        {
          "output_type": "execute_result",
          "data": {
            "text/plain": [
              "                                           Abstraksi\n",
              "0  Abstrak\\r\\nPenelitian ini menggunakan metode k...\n",
              "1  Aplikasi nyata pemanfaatan teknologi informasi...\n",
              "2  Tujuan penelitian ini adalah untuk mengidentif...\n",
              "3  PLN merupakan Badan Usaha Milik Negara yang be...\n",
              "4  \\r\\n\\r\\nPenelitian ini bertujuan untuk mengeta..."
            ],
            "text/html": [
              "\n",
              "  <div id=\"df-bb30cd67-e4e7-429b-aacf-758256185a3c\">\n",
              "    <div class=\"colab-df-container\">\n",
              "      <div>\n",
              "<style scoped>\n",
              "    .dataframe tbody tr th:only-of-type {\n",
              "        vertical-align: middle;\n",
              "    }\n",
              "\n",
              "    .dataframe tbody tr th {\n",
              "        vertical-align: top;\n",
              "    }\n",
              "\n",
              "    .dataframe thead th {\n",
              "        text-align: right;\n",
              "    }\n",
              "</style>\n",
              "<table border=\"1\" class=\"dataframe\">\n",
              "  <thead>\n",
              "    <tr style=\"text-align: right;\">\n",
              "      <th></th>\n",
              "      <th>Abstraksi</th>\n",
              "    </tr>\n",
              "  </thead>\n",
              "  <tbody>\n",
              "    <tr>\n",
              "      <th>0</th>\n",
              "      <td>Abstrak\\r\\nPenelitian ini menggunakan metode k...</td>\n",
              "    </tr>\n",
              "    <tr>\n",
              "      <th>1</th>\n",
              "      <td>Aplikasi nyata pemanfaatan teknologi informasi...</td>\n",
              "    </tr>\n",
              "    <tr>\n",
              "      <th>2</th>\n",
              "      <td>Tujuan penelitian ini adalah untuk mengidentif...</td>\n",
              "    </tr>\n",
              "    <tr>\n",
              "      <th>3</th>\n",
              "      <td>PLN merupakan Badan Usaha Milik Negara yang be...</td>\n",
              "    </tr>\n",
              "    <tr>\n",
              "      <th>4</th>\n",
              "      <td>\\r\\n\\r\\nPenelitian ini bertujuan untuk mengeta...</td>\n",
              "    </tr>\n",
              "  </tbody>\n",
              "</table>\n",
              "</div>\n",
              "      <button class=\"colab-df-convert\" onclick=\"convertToInteractive('df-bb30cd67-e4e7-429b-aacf-758256185a3c')\"\n",
              "              title=\"Convert this dataframe to an interactive table.\"\n",
              "              style=\"display:none;\">\n",
              "        \n",
              "  <svg xmlns=\"http://www.w3.org/2000/svg\" height=\"24px\"viewBox=\"0 0 24 24\"\n",
              "       width=\"24px\">\n",
              "    <path d=\"M0 0h24v24H0V0z\" fill=\"none\"/>\n",
              "    <path d=\"M18.56 5.44l.94 2.06.94-2.06 2.06-.94-2.06-.94-.94-2.06-.94 2.06-2.06.94zm-11 1L8.5 8.5l.94-2.06 2.06-.94-2.06-.94L8.5 2.5l-.94 2.06-2.06.94zm10 10l.94 2.06.94-2.06 2.06-.94-2.06-.94-.94-2.06-.94 2.06-2.06.94z\"/><path d=\"M17.41 7.96l-1.37-1.37c-.4-.4-.92-.59-1.43-.59-.52 0-1.04.2-1.43.59L10.3 9.45l-7.72 7.72c-.78.78-.78 2.05 0 2.83L4 21.41c.39.39.9.59 1.41.59.51 0 1.02-.2 1.41-.59l7.78-7.78 2.81-2.81c.8-.78.8-2.07 0-2.86zM5.41 20L4 18.59l7.72-7.72 1.47 1.35L5.41 20z\"/>\n",
              "  </svg>\n",
              "      </button>\n",
              "      \n",
              "  <style>\n",
              "    .colab-df-container {\n",
              "      display:flex;\n",
              "      flex-wrap:wrap;\n",
              "      gap: 12px;\n",
              "    }\n",
              "\n",
              "    .colab-df-convert {\n",
              "      background-color: #E8F0FE;\n",
              "      border: none;\n",
              "      border-radius: 50%;\n",
              "      cursor: pointer;\n",
              "      display: none;\n",
              "      fill: #1967D2;\n",
              "      height: 32px;\n",
              "      padding: 0 0 0 0;\n",
              "      width: 32px;\n",
              "    }\n",
              "\n",
              "    .colab-df-convert:hover {\n",
              "      background-color: #E2EBFA;\n",
              "      box-shadow: 0px 1px 2px rgba(60, 64, 67, 0.3), 0px 1px 3px 1px rgba(60, 64, 67, 0.15);\n",
              "      fill: #174EA6;\n",
              "    }\n",
              "\n",
              "    [theme=dark] .colab-df-convert {\n",
              "      background-color: #3B4455;\n",
              "      fill: #D2E3FC;\n",
              "    }\n",
              "\n",
              "    [theme=dark] .colab-df-convert:hover {\n",
              "      background-color: #434B5C;\n",
              "      box-shadow: 0px 1px 3px 1px rgba(0, 0, 0, 0.15);\n",
              "      filter: drop-shadow(0px 1px 2px rgba(0, 0, 0, 0.3));\n",
              "      fill: #FFFFFF;\n",
              "    }\n",
              "  </style>\n",
              "\n",
              "      <script>\n",
              "        const buttonEl =\n",
              "          document.querySelector('#df-bb30cd67-e4e7-429b-aacf-758256185a3c button.colab-df-convert');\n",
              "        buttonEl.style.display =\n",
              "          google.colab.kernel.accessAllowed ? 'block' : 'none';\n",
              "\n",
              "        async function convertToInteractive(key) {\n",
              "          const element = document.querySelector('#df-bb30cd67-e4e7-429b-aacf-758256185a3c');\n",
              "          const dataTable =\n",
              "            await google.colab.kernel.invokeFunction('convertToInteractive',\n",
              "                                                     [key], {});\n",
              "          if (!dataTable) return;\n",
              "\n",
              "          const docLinkHtml = 'Like what you see? Visit the ' +\n",
              "            '<a target=\"_blank\" href=https://colab.research.google.com/notebooks/data_table.ipynb>data table notebook</a>'\n",
              "            + ' to learn more about interactive tables.';\n",
              "          element.innerHTML = '';\n",
              "          dataTable['output_type'] = 'display_data';\n",
              "          await google.colab.output.renderOutput(dataTable, element);\n",
              "          const docLink = document.createElement('div');\n",
              "          docLink.innerHTML = docLinkHtml;\n",
              "          element.appendChild(docLink);\n",
              "        }\n",
              "      </script>\n",
              "    </div>\n",
              "  </div>\n",
              "  "
            ]
          },
          "metadata": {},
          "execution_count": 10
        }
      ]
    },
    {
      "cell_type": "markdown",
      "source": [
        "#Cleaning Data"
      ],
      "metadata": {
        "id": "1EuUbaUJpRux"
      }
    },
    {
      "cell_type": "markdown",
      "source": [
        "Salah satu preprocessing adalah melakukan cleaning data untuk melakukan proses pembersihan data yang tidak diperlukan. Dalam tahap ini, data dibersihkan melalui beberapa proses seperti mengisi nilai yang hilang, menghaluskan noisy data, dan menyelesaikan inkonsistensi yang ditemukan. Data juga bisa dibersihkan dengan dibagi menjadi segmen-segmen yang memiliki ukuran serupa lalu dihaluskan (binning).\n",
        "\n",
        "Disini telah menggunakan lemmatizer dan juga dapat menggunakan stemmer. Juga kata-kata berhenti telah digunakan bersama dengan kata-kata yang panjangnya lebih pendek dari 3 karakter untuk mengurangi beberapa kata yang menyimpang."
      ],
      "metadata": {
        "id": "z4pfUX9bpqh-"
      }
    },
    {
      "cell_type": "code",
      "source": [
        "def clean_text(Abstraksi):\n",
        "  le=WordNetLemmatizer()\n",
        "  word_tokens=word_tokenize(Abstraksi)\n",
        "  tokens=[le.lemmatize(w) for w in word_tokens if w not in stop_words and len(w)>3]\n",
        "  cleaned_text=\" \".join(tokens)\n",
        "  return cleaned_text"
      ],
      "metadata": {
        "id": "bDKO2bRRpUoy"
      },
      "execution_count": 11,
      "outputs": []
    },
    {
      "cell_type": "code",
      "source": [
        "import nltk\n",
        "nltk.download('punkt')\n",
        "nltk.download('wordnet')\n",
        "nltk.download('omw-1.4')"
      ],
      "metadata": {
        "colab": {
          "base_uri": "https://localhost:8080/"
        },
        "id": "7w7UU4aLqCGj",
        "outputId": "38ae3918-d42d-48e1-8ef7-47d81c001501"
      },
      "execution_count": 12,
      "outputs": [
        {
          "output_type": "stream",
          "name": "stderr",
          "text": [
            "[nltk_data] Downloading package punkt to /root/nltk_data...\n",
            "[nltk_data]   Unzipping tokenizers/punkt.zip.\n",
            "[nltk_data] Downloading package wordnet to /root/nltk_data...\n",
            "[nltk_data] Downloading package omw-1.4 to /root/nltk_data...\n"
          ]
        },
        {
          "output_type": "execute_result",
          "data": {
            "text/plain": [
              "True"
            ]
          },
          "metadata": {},
          "execution_count": 12
        }
      ]
    },
    {
      "cell_type": "code",
      "source": [
        "# time taking\n",
        "df['Abstraksi_cleaned_text']=df['Abstraksi'].apply(clean_text)\n",
        "df.head()"
      ],
      "metadata": {
        "colab": {
          "base_uri": "https://localhost:8080/",
          "height": 206
        },
        "id": "Hn_6Dup9qQbx",
        "outputId": "57db215e-786c-42ee-80ed-60e0b9cae54d"
      },
      "execution_count": 13,
      "outputs": [
        {
          "output_type": "execute_result",
          "data": {
            "text/plain": [
              "                                           Abstraksi  \\\n",
              "0  Abstrak\\r\\nPenelitian ini menggunakan metode k...   \n",
              "1  Aplikasi nyata pemanfaatan teknologi informasi...   \n",
              "2  Tujuan penelitian ini adalah untuk mengidentif...   \n",
              "3  PLN merupakan Badan Usaha Milik Negara yang be...   \n",
              "4  \\r\\n\\r\\nPenelitian ini bertujuan untuk mengeta...   \n",
              "\n",
              "                              Abstraksi_cleaned_text  \n",
              "0  Abstrak Penelitian menggunakan metode kuantita...  \n",
              "1  Aplikasi nyata pemanfaatan teknologi informasi...  \n",
              "2  Tujuan penelitian adalah untuk mengidentifikas...  \n",
              "3  merupakan Badan Usaha Milik Negara yang berger...  \n",
              "4  Penelitian bertujuan untuk mengetahui pengaruh...  "
            ],
            "text/html": [
              "\n",
              "  <div id=\"df-3bca3fdd-1500-494b-9c48-e77f9a07200f\">\n",
              "    <div class=\"colab-df-container\">\n",
              "      <div>\n",
              "<style scoped>\n",
              "    .dataframe tbody tr th:only-of-type {\n",
              "        vertical-align: middle;\n",
              "    }\n",
              "\n",
              "    .dataframe tbody tr th {\n",
              "        vertical-align: top;\n",
              "    }\n",
              "\n",
              "    .dataframe thead th {\n",
              "        text-align: right;\n",
              "    }\n",
              "</style>\n",
              "<table border=\"1\" class=\"dataframe\">\n",
              "  <thead>\n",
              "    <tr style=\"text-align: right;\">\n",
              "      <th></th>\n",
              "      <th>Abstraksi</th>\n",
              "      <th>Abstraksi_cleaned_text</th>\n",
              "    </tr>\n",
              "  </thead>\n",
              "  <tbody>\n",
              "    <tr>\n",
              "      <th>0</th>\n",
              "      <td>Abstrak\\r\\nPenelitian ini menggunakan metode k...</td>\n",
              "      <td>Abstrak Penelitian menggunakan metode kuantita...</td>\n",
              "    </tr>\n",
              "    <tr>\n",
              "      <th>1</th>\n",
              "      <td>Aplikasi nyata pemanfaatan teknologi informasi...</td>\n",
              "      <td>Aplikasi nyata pemanfaatan teknologi informasi...</td>\n",
              "    </tr>\n",
              "    <tr>\n",
              "      <th>2</th>\n",
              "      <td>Tujuan penelitian ini adalah untuk mengidentif...</td>\n",
              "      <td>Tujuan penelitian adalah untuk mengidentifikas...</td>\n",
              "    </tr>\n",
              "    <tr>\n",
              "      <th>3</th>\n",
              "      <td>PLN merupakan Badan Usaha Milik Negara yang be...</td>\n",
              "      <td>merupakan Badan Usaha Milik Negara yang berger...</td>\n",
              "    </tr>\n",
              "    <tr>\n",
              "      <th>4</th>\n",
              "      <td>\\r\\n\\r\\nPenelitian ini bertujuan untuk mengeta...</td>\n",
              "      <td>Penelitian bertujuan untuk mengetahui pengaruh...</td>\n",
              "    </tr>\n",
              "  </tbody>\n",
              "</table>\n",
              "</div>\n",
              "      <button class=\"colab-df-convert\" onclick=\"convertToInteractive('df-3bca3fdd-1500-494b-9c48-e77f9a07200f')\"\n",
              "              title=\"Convert this dataframe to an interactive table.\"\n",
              "              style=\"display:none;\">\n",
              "        \n",
              "  <svg xmlns=\"http://www.w3.org/2000/svg\" height=\"24px\"viewBox=\"0 0 24 24\"\n",
              "       width=\"24px\">\n",
              "    <path d=\"M0 0h24v24H0V0z\" fill=\"none\"/>\n",
              "    <path d=\"M18.56 5.44l.94 2.06.94-2.06 2.06-.94-2.06-.94-.94-2.06-.94 2.06-2.06.94zm-11 1L8.5 8.5l.94-2.06 2.06-.94-2.06-.94L8.5 2.5l-.94 2.06-2.06.94zm10 10l.94 2.06.94-2.06 2.06-.94-2.06-.94-.94-2.06-.94 2.06-2.06.94z\"/><path d=\"M17.41 7.96l-1.37-1.37c-.4-.4-.92-.59-1.43-.59-.52 0-1.04.2-1.43.59L10.3 9.45l-7.72 7.72c-.78.78-.78 2.05 0 2.83L4 21.41c.39.39.9.59 1.41.59.51 0 1.02-.2 1.41-.59l7.78-7.78 2.81-2.81c.8-.78.8-2.07 0-2.86zM5.41 20L4 18.59l7.72-7.72 1.47 1.35L5.41 20z\"/>\n",
              "  </svg>\n",
              "      </button>\n",
              "      \n",
              "  <style>\n",
              "    .colab-df-container {\n",
              "      display:flex;\n",
              "      flex-wrap:wrap;\n",
              "      gap: 12px;\n",
              "    }\n",
              "\n",
              "    .colab-df-convert {\n",
              "      background-color: #E8F0FE;\n",
              "      border: none;\n",
              "      border-radius: 50%;\n",
              "      cursor: pointer;\n",
              "      display: none;\n",
              "      fill: #1967D2;\n",
              "      height: 32px;\n",
              "      padding: 0 0 0 0;\n",
              "      width: 32px;\n",
              "    }\n",
              "\n",
              "    .colab-df-convert:hover {\n",
              "      background-color: #E2EBFA;\n",
              "      box-shadow: 0px 1px 2px rgba(60, 64, 67, 0.3), 0px 1px 3px 1px rgba(60, 64, 67, 0.15);\n",
              "      fill: #174EA6;\n",
              "    }\n",
              "\n",
              "    [theme=dark] .colab-df-convert {\n",
              "      background-color: #3B4455;\n",
              "      fill: #D2E3FC;\n",
              "    }\n",
              "\n",
              "    [theme=dark] .colab-df-convert:hover {\n",
              "      background-color: #434B5C;\n",
              "      box-shadow: 0px 1px 3px 1px rgba(0, 0, 0, 0.15);\n",
              "      filter: drop-shadow(0px 1px 2px rgba(0, 0, 0, 0.3));\n",
              "      fill: #FFFFFF;\n",
              "    }\n",
              "  </style>\n",
              "\n",
              "      <script>\n",
              "        const buttonEl =\n",
              "          document.querySelector('#df-3bca3fdd-1500-494b-9c48-e77f9a07200f button.colab-df-convert');\n",
              "        buttonEl.style.display =\n",
              "          google.colab.kernel.accessAllowed ? 'block' : 'none';\n",
              "\n",
              "        async function convertToInteractive(key) {\n",
              "          const element = document.querySelector('#df-3bca3fdd-1500-494b-9c48-e77f9a07200f');\n",
              "          const dataTable =\n",
              "            await google.colab.kernel.invokeFunction('convertToInteractive',\n",
              "                                                     [key], {});\n",
              "          if (!dataTable) return;\n",
              "\n",
              "          const docLinkHtml = 'Like what you see? Visit the ' +\n",
              "            '<a target=\"_blank\" href=https://colab.research.google.com/notebooks/data_table.ipynb>data table notebook</a>'\n",
              "            + ' to learn more about interactive tables.';\n",
              "          element.innerHTML = '';\n",
              "          dataTable['output_type'] = 'display_data';\n",
              "          await google.colab.output.renderOutput(dataTable, element);\n",
              "          const docLink = document.createElement('div');\n",
              "          docLink.innerHTML = docLinkHtml;\n",
              "          element.appendChild(docLink);\n",
              "        }\n",
              "      </script>\n",
              "    </div>\n",
              "  </div>\n",
              "  "
            ]
          },
          "metadata": {},
          "execution_count": 13
        }
      ]
    },
    {
      "cell_type": "markdown",
      "source": [
        "Dapat dilihat perbedaan diatas setelah di clening datanya dan dilakukan penghapusan stopwords, juga kata2 yang sudah dilematisasi.\n",
        "\n",
        "melakukan penghapusan kolom yang belum di proses (dilakukan cleaning data)"
      ],
      "metadata": {
        "id": "VCYlWOfAqcC1"
      }
    },
    {
      "cell_type": "code",
      "source": [
        "df.drop(['Abstraksi'],axis=1,inplace=True)"
      ],
      "metadata": {
        "id": "hiCJHHFXqkEr"
      },
      "execution_count": 14,
      "outputs": []
    },
    {
      "cell_type": "markdown",
      "source": [
        "#Menampilkan data Abstraksi_cleaned_text"
      ],
      "metadata": {
        "id": "jpDyyWhHrNTa"
      }
    },
    {
      "cell_type": "code",
      "source": [
        "df.head()"
      ],
      "metadata": {
        "colab": {
          "base_uri": "https://localhost:8080/",
          "height": 206
        },
        "id": "GpknBk-Zq3rq",
        "outputId": "22793a9e-b365-4fe0-9e2d-87d40b3d5311"
      },
      "execution_count": 15,
      "outputs": [
        {
          "output_type": "execute_result",
          "data": {
            "text/plain": [
              "                              Abstraksi_cleaned_text\n",
              "0  Abstrak Penelitian menggunakan metode kuantita...\n",
              "1  Aplikasi nyata pemanfaatan teknologi informasi...\n",
              "2  Tujuan penelitian adalah untuk mengidentifikas...\n",
              "3  merupakan Badan Usaha Milik Negara yang berger...\n",
              "4  Penelitian bertujuan untuk mengetahui pengaruh..."
            ],
            "text/html": [
              "\n",
              "  <div id=\"df-2b2a0dad-e9cb-4fba-8111-f03c019f358f\">\n",
              "    <div class=\"colab-df-container\">\n",
              "      <div>\n",
              "<style scoped>\n",
              "    .dataframe tbody tr th:only-of-type {\n",
              "        vertical-align: middle;\n",
              "    }\n",
              "\n",
              "    .dataframe tbody tr th {\n",
              "        vertical-align: top;\n",
              "    }\n",
              "\n",
              "    .dataframe thead th {\n",
              "        text-align: right;\n",
              "    }\n",
              "</style>\n",
              "<table border=\"1\" class=\"dataframe\">\n",
              "  <thead>\n",
              "    <tr style=\"text-align: right;\">\n",
              "      <th></th>\n",
              "      <th>Abstraksi_cleaned_text</th>\n",
              "    </tr>\n",
              "  </thead>\n",
              "  <tbody>\n",
              "    <tr>\n",
              "      <th>0</th>\n",
              "      <td>Abstrak Penelitian menggunakan metode kuantita...</td>\n",
              "    </tr>\n",
              "    <tr>\n",
              "      <th>1</th>\n",
              "      <td>Aplikasi nyata pemanfaatan teknologi informasi...</td>\n",
              "    </tr>\n",
              "    <tr>\n",
              "      <th>2</th>\n",
              "      <td>Tujuan penelitian adalah untuk mengidentifikas...</td>\n",
              "    </tr>\n",
              "    <tr>\n",
              "      <th>3</th>\n",
              "      <td>merupakan Badan Usaha Milik Negara yang berger...</td>\n",
              "    </tr>\n",
              "    <tr>\n",
              "      <th>4</th>\n",
              "      <td>Penelitian bertujuan untuk mengetahui pengaruh...</td>\n",
              "    </tr>\n",
              "  </tbody>\n",
              "</table>\n",
              "</div>\n",
              "      <button class=\"colab-df-convert\" onclick=\"convertToInteractive('df-2b2a0dad-e9cb-4fba-8111-f03c019f358f')\"\n",
              "              title=\"Convert this dataframe to an interactive table.\"\n",
              "              style=\"display:none;\">\n",
              "        \n",
              "  <svg xmlns=\"http://www.w3.org/2000/svg\" height=\"24px\"viewBox=\"0 0 24 24\"\n",
              "       width=\"24px\">\n",
              "    <path d=\"M0 0h24v24H0V0z\" fill=\"none\"/>\n",
              "    <path d=\"M18.56 5.44l.94 2.06.94-2.06 2.06-.94-2.06-.94-.94-2.06-.94 2.06-2.06.94zm-11 1L8.5 8.5l.94-2.06 2.06-.94-2.06-.94L8.5 2.5l-.94 2.06-2.06.94zm10 10l.94 2.06.94-2.06 2.06-.94-2.06-.94-.94-2.06-.94 2.06-2.06.94z\"/><path d=\"M17.41 7.96l-1.37-1.37c-.4-.4-.92-.59-1.43-.59-.52 0-1.04.2-1.43.59L10.3 9.45l-7.72 7.72c-.78.78-.78 2.05 0 2.83L4 21.41c.39.39.9.59 1.41.59.51 0 1.02-.2 1.41-.59l7.78-7.78 2.81-2.81c.8-.78.8-2.07 0-2.86zM5.41 20L4 18.59l7.72-7.72 1.47 1.35L5.41 20z\"/>\n",
              "  </svg>\n",
              "      </button>\n",
              "      \n",
              "  <style>\n",
              "    .colab-df-container {\n",
              "      display:flex;\n",
              "      flex-wrap:wrap;\n",
              "      gap: 12px;\n",
              "    }\n",
              "\n",
              "    .colab-df-convert {\n",
              "      background-color: #E8F0FE;\n",
              "      border: none;\n",
              "      border-radius: 50%;\n",
              "      cursor: pointer;\n",
              "      display: none;\n",
              "      fill: #1967D2;\n",
              "      height: 32px;\n",
              "      padding: 0 0 0 0;\n",
              "      width: 32px;\n",
              "    }\n",
              "\n",
              "    .colab-df-convert:hover {\n",
              "      background-color: #E2EBFA;\n",
              "      box-shadow: 0px 1px 2px rgba(60, 64, 67, 0.3), 0px 1px 3px 1px rgba(60, 64, 67, 0.15);\n",
              "      fill: #174EA6;\n",
              "    }\n",
              "\n",
              "    [theme=dark] .colab-df-convert {\n",
              "      background-color: #3B4455;\n",
              "      fill: #D2E3FC;\n",
              "    }\n",
              "\n",
              "    [theme=dark] .colab-df-convert:hover {\n",
              "      background-color: #434B5C;\n",
              "      box-shadow: 0px 1px 3px 1px rgba(0, 0, 0, 0.15);\n",
              "      filter: drop-shadow(0px 1px 2px rgba(0, 0, 0, 0.3));\n",
              "      fill: #FFFFFF;\n",
              "    }\n",
              "  </style>\n",
              "\n",
              "      <script>\n",
              "        const buttonEl =\n",
              "          document.querySelector('#df-2b2a0dad-e9cb-4fba-8111-f03c019f358f button.colab-df-convert');\n",
              "        buttonEl.style.display =\n",
              "          google.colab.kernel.accessAllowed ? 'block' : 'none';\n",
              "\n",
              "        async function convertToInteractive(key) {\n",
              "          const element = document.querySelector('#df-2b2a0dad-e9cb-4fba-8111-f03c019f358f');\n",
              "          const dataTable =\n",
              "            await google.colab.kernel.invokeFunction('convertToInteractive',\n",
              "                                                     [key], {});\n",
              "          if (!dataTable) return;\n",
              "\n",
              "          const docLinkHtml = 'Like what you see? Visit the ' +\n",
              "            '<a target=\"_blank\" href=https://colab.research.google.com/notebooks/data_table.ipynb>data table notebook</a>'\n",
              "            + ' to learn more about interactive tables.';\n",
              "          element.innerHTML = '';\n",
              "          dataTable['output_type'] = 'display_data';\n",
              "          await google.colab.output.renderOutput(dataTable, element);\n",
              "          const docLink = document.createElement('div');\n",
              "          docLink.innerHTML = docLinkHtml;\n",
              "          element.appendChild(docLink);\n",
              "        }\n",
              "      </script>\n",
              "    </div>\n",
              "  </div>\n",
              "  "
            ]
          },
          "metadata": {},
          "execution_count": 15
        }
      ]
    },
    {
      "cell_type": "code",
      "source": [
        "df['Abstraksi_cleaned_text'][0]"
      ],
      "metadata": {
        "colab": {
          "base_uri": "https://localhost:8080/",
          "height": 123
        },
        "id": "Wh0HL2VgrXdT",
        "outputId": "6c452604-8a1a-48a8-f499-5bd040b34b6f"
      },
      "execution_count": 16,
      "outputs": [
        {
          "output_type": "execute_result",
          "data": {
            "text/plain": [
              "'Abstrak Penelitian menggunakan metode kuantitatif yang menekankan pada pengujian hipotesis Variabel yang digunakan pada penelitian adalah kepemimpinan kompensasi Penelitian dilaksanakan Kantor Dinas Pendidikan Kabupaten Sampang sampel yang digunakan adalah sebanyak orang yang terdiri dari pegawai negeri sipil Hipotesis pertama menjelaskan bahwa variabel bebas secara bersama–sama mempunyai hubungan yang signifikan secara simultan antara kepemimpinan kompensasi terhadap kinerja pegawai terbukti dengan nilai Fhitung pada tingkat sebesar 11,645 dengan nilai sebesar 0,311 Hipotesis kedua menjelaskan bahwa variabel kompensasi sebagai variabel yang mempunyai pengaruh dominan terbukti dengan nilai hitung 3,072 berarti bahwa terdapat pengaruh positif signifikan secara parsial antara variabel bebas terhadap variabel terikat Kesimpulan penelitian adalah pengujian hipotesis pertama menunjukkan bahwa berdasarkan pengujian statistik secara simultan variabel bebas memiliki pengaruh yang signifikan terhadap variabel terikat Pengujian hipotesis kedua membuktikan bahwa variabel kompensasi merupakan variabel yang berpengaruh dominan terhadap kinerja pada pegawai Dinas Pendidikan Kabupaten Sampang Kata kunci Kepemimpinan Kompensasi Kinerja'"
            ],
            "application/vnd.google.colaboratory.intrinsic+json": {
              "type": "string"
            }
          },
          "metadata": {},
          "execution_count": 16
        }
      ]
    },
    {
      "cell_type": "markdown",
      "source": [
        "#Ekstraksi Fitur dan Dokumen Term-Matrix"
      ],
      "metadata": {
        "id": "vvUp8gUY01wL"
      }
    },
    {
      "cell_type": "markdown",
      "source": [
        "**MENGEKSTRAKSI FITUR DAN MEMBUAT DOCUMENT-TERM-MATRIX ( DTM ) Di DTM nilainya adalah nilai TFidf.**\n",
        "\n",
        "Saya juga telah menentukan beberapa parameter dari vectorizer TF-IDF.\n",
        "\n",
        "Berikut poin penting pada LSA\n",
        "\n",
        "LSA umumnya diimplementasikan dengan nilai TF-IDF dimana-mana dan bukan dengan Count Vectorizer.\n",
        "\n",
        "max_features tergantung pada daya komputasi Anda dan juga pada eval. matrik (skor koherensi adalah matrik untuk model topik). Cobalah nilai yang memberikan eval terbaik. matrik dan tidak membatasi kekuatan pemrosesan.\n",
        "\n",
        "Nilai default untuk min_df &max_df bekerja dengan baik.\n",
        "\n",
        "Dapat mencoba nilai yang berbeda untuk ngram_range."
      ],
      "metadata": {
        "id": "wqhFZfhOrphM"
      }
    },
    {
      "cell_type": "code",
      "source": [
        "vect =TfidfVectorizer(stop_words=stop_words,max_features=1000)"
      ],
      "metadata": {
        "id": "a5xfv0ZNr1T0"
      },
      "execution_count": 17,
      "outputs": []
    },
    {
      "cell_type": "code",
      "source": [
        "vect_text=vect.fit_transform(df['Abstraksi_cleaned_text'])"
      ],
      "metadata": {
        "id": "_i0D4Tc8r_iZ"
      },
      "execution_count": 18,
      "outputs": []
    },
    {
      "cell_type": "markdown",
      "source": [
        "Kita sekarang melihat kata-kata yang paling sering muncul dan langka di abstrak berdasarkan skor idf. Semakin kecil nilainya; lebih umum adalah kata dalam abstrak."
      ],
      "metadata": {
        "id": "5inGaTnHwcMV"
      }
    },
    {
      "cell_type": "code",
      "source": [
        "print(vect_text.shape)\n",
        "print(vect_text)"
      ],
      "metadata": {
        "colab": {
          "base_uri": "https://localhost:8080/"
        },
        "id": "Pwhob5CRwd5u",
        "outputId": "8b4e1b72-fb7d-40ed-dcc1-4fd91fbcd683"
      },
      "execution_count": 19,
      "outputs": [
        {
          "output_type": "stream",
          "name": "stdout",
          "text": [
            "(1019, 1000)\n",
            "  (0, 467)\t0.022635638327625874\n",
            "  (0, 391)\t0.02250178030957979\n",
            "  (0, 122)\t0.024709956136154426\n",
            "  (0, 573)\t0.047881691746207496\n",
            "  (0, 536)\t0.0815690546806959\n",
            "  (0, 539)\t0.049454663453802124\n",
            "  (0, 889)\t0.06982400165883748\n",
            "  (0, 114)\t0.033929390887651095\n",
            "  (0, 566)\t0.030163446648598238\n",
            "  (0, 432)\t0.0700652185554749\n",
            "  (0, 935)\t0.12399280391183405\n",
            "  (0, 629)\t0.03208302044532638\n",
            "  (0, 732)\t0.035790573500601434\n",
            "  (0, 932)\t0.05688763841434733\n",
            "  (0, 112)\t0.06074243442421942\n",
            "  (0, 320)\t0.07379075638406334\n",
            "  (0, 243)\t0.08694593454547808\n",
            "  (0, 668)\t0.07420444737000494\n",
            "  (0, 821)\t0.05079074567243407\n",
            "  (0, 400)\t0.14700047616227604\n",
            "  (0, 7)\t0.09074990080207347\n",
            "  (0, 825)\t0.06661492114827604\n",
            "  (0, 950)\t0.045912771911561526\n",
            "  (0, 289)\t0.06265431808451072\n",
            "  (0, 597)\t0.10445273238487683\n",
            "  :\t:\n",
            "  (1018, 189)\t0.031199481834644865\n",
            "  (1018, 56)\t0.041946309736188445\n",
            "  (1018, 972)\t0.012027939310659598\n",
            "  (1018, 171)\t0.029026739528994892\n",
            "  (1018, 467)\t0.012924654007991324\n",
            "  (1018, 391)\t0.012848222827019078\n",
            "  (1018, 122)\t0.056436249597196106\n",
            "  (1018, 114)\t0.019373239295380564\n",
            "  (1018, 629)\t0.01831898587463633\n",
            "  (1018, 732)\t0.061307850816598626\n",
            "  (1018, 668)\t0.02824651387427449\n",
            "  (1018, 934)\t0.07777837955652717\n",
            "  (1018, 862)\t0.05954772619544569\n",
            "  (1018, 827)\t0.01473602991454183\n",
            "  (1018, 85)\t0.014038354479395223\n",
            "  (1018, 175)\t0.043189133959389586\n",
            "  (1018, 933)\t0.02874082481377824\n",
            "  (1018, 34)\t0.03794065395051292\n",
            "  (1018, 204)\t0.035398457838924896\n",
            "  (1018, 621)\t0.08787864958281642\n",
            "  (1018, 996)\t0.046169510587892953\n",
            "  (1018, 463)\t0.01873754981219321\n",
            "  (1018, 574)\t0.01671216398771911\n",
            "  (1018, 555)\t0.013447771749500625\n",
            "  (1018, 661)\t0.05720487180817709\n"
          ]
        }
      ]
    },
    {
      "cell_type": "code",
      "source": [
        "idf=vect.idf_"
      ],
      "metadata": {
        "id": "CaLK3oiUw1k0"
      },
      "execution_count": 20,
      "outputs": []
    },
    {
      "cell_type": "code",
      "source": [
        "dd=dict(zip(vect.get_feature_names(), idf))\n",
        "l=sorted(dd, key=(dd).get)\n",
        "# print(l)\n",
        "print(l[0],l[-1])\n",
        "print(dd['penelitian'])\n",
        "print(dd['ganda'])"
      ],
      "metadata": {
        "colab": {
          "base_uri": "https://localhost:8080/"
        },
        "id": "5A_5bhfYw_GS",
        "outputId": "e7b7d3dc-6719-48e6-bc69-f5dda32b81a5"
      },
      "execution_count": 21,
      "outputs": [
        {
          "output_type": "stream",
          "name": "stdout",
          "text": [
            "penelitian need\n",
            "1.0068864020296335\n",
            "5.442651256490317\n"
          ]
        },
        {
          "output_type": "stream",
          "name": "stderr",
          "text": [
            "/usr/local/lib/python3.7/dist-packages/sklearn/utils/deprecation.py:87: FutureWarning: Function get_feature_names is deprecated; get_feature_names is deprecated in 1.0 and will be removed in 1.2. Please use get_feature_names_out instead.\n",
            "  warnings.warn(msg, category=FutureWarning)\n"
          ]
        }
      ]
    },
    {
      "cell_type": "markdown",
      "source": [
        "Oleh karena itu kita dapat melihat bahwa berdasarkan nilai idf , 'penelitian' adalah kata yang paling sering muncul sedangkan 'ganda' paling jarang muncul di antara abstrak pta."
      ],
      "metadata": {
        "id": "zvmu9I9GxKoL"
      }
    },
    {
      "cell_type": "markdown",
      "source": [
        "#Topic Modelling LSA"
      ],
      "metadata": {
        "id": "LondTp83xlPE"
      }
    },
    {
      "cell_type": "markdown",
      "source": [
        "Latent Semantic Analysis (LSA)\n",
        "\n",
        "Latent Semantic Analysis (LSA), adalah salah satu teknik dasar dalam pemodelan topik. Ide intinya adalah mengambil matriks dari apa yang kita miliki - dokumen dan istilah - dan menguraikannya menjadi matriks topik dokumen dan matriks istilah topik yang terpisah.\n",
        "\n",
        "Pendekatan pertama yang digunakan adalah LSA. LSA pada dasarnya adalah dekomposisi nilai tunggal.\n",
        "\n",
        "SVD menguraikan DTM asli menjadi tiga matriks S=U.(sigma).(V.T). Di sini matriks U menunjukkan matriks dokumen-topik sementara (V) adalah matriks topik-term.\n",
        "\n",
        "Setiap baris dari matriks U (matriks istilah dokumen) adalah representasi vektor dari dokumen yang sesuai. Panjang vektor ini adalah jumlah topik yang diinginkan. Representasi vektor untuk suku-suku dalam data kami dapat ditemukan dalam matriks V (matriks istilah-topik).\n",
        "\n",
        "Jadi, SVD memberi kita vektor untuk setiap dokumen dan istilah dalam data kita. Panjang setiap vektor adalah k. Kami kemudian dapat menggunakan vektor-vektor ini untuk menemukan kata-kata dan dokumen serupa menggunakan metode kesamaan kosinus.\n",
        "\n",
        "Kita dapat menggunakan fungsi truncatedSVD untuk mengimplementasikan LSA. Parameter n_components adalah jumlah topik yang ingin kita ekstrak. Model tersebut kemudian di fit dan ditransformasikan pada hasil yang diberikan oleh vectorizer.\n",
        "\n",
        "Terakhir perhatikan bahwa LSA dan LSI (I untuk pengindeksan) adalah sama dan yang terakhir kadang-kadang digunakan dalam konteks pencarian informasi."
      ],
      "metadata": {
        "id": "JANokI2_xtIi"
      }
    },
    {
      "cell_type": "code",
      "source": [
        "from sklearn.decomposition import TruncatedSVD\n",
        "lsa_model = TruncatedSVD(n_components=10, algorithm='randomized', n_iter=10, random_state=42)\n",
        "\n",
        "lsa_top=lsa_model.fit_transform(vect_text)"
      ],
      "metadata": {
        "id": "ZtL8MntCxWGp"
      },
      "execution_count": 22,
      "outputs": []
    },
    {
      "cell_type": "code",
      "source": [
        "print(lsa_top)\n",
        "print(lsa_top.shape)  # (no_of_doc*no_of_topics)"
      ],
      "metadata": {
        "colab": {
          "base_uri": "https://localhost:8080/"
        },
        "id": "QAhpLiqYx_qe",
        "outputId": "f74e8aaf-ec43-4f77-d1ca-fb0be0540d65"
      },
      "execution_count": 23,
      "outputs": [
        {
          "output_type": "stream",
          "name": "stdout",
          "text": [
            "[[ 0.40229073  0.05549972  0.03121153 ... -0.13722768 -0.01490652\n",
            "  -0.13806903]\n",
            " [ 0.16816737 -0.00672889  0.09201281 ... -0.02885376  0.09588651\n",
            "   0.08748818]\n",
            " [ 0.18972676 -0.0473179   0.0910802  ... -0.00640613  0.02285941\n",
            "  -0.00725145]\n",
            " ...\n",
            " [ 0.26804609 -0.197341   -0.09325366 ... -0.10329699  0.04125433\n",
            "   0.0049161 ]\n",
            " [ 0.32953475 -0.27080198 -0.14398105 ... -0.13609479  0.09508535\n",
            "  -0.05079068]\n",
            " [ 0.22953822 -0.17968864 -0.0895312  ...  0.26774633 -0.12195237\n",
            "   0.04602788]]\n",
            "(1019, 10)\n"
          ]
        }
      ]
    },
    {
      "cell_type": "code",
      "source": [
        "l=lsa_top[0]\n",
        "print(\"Document 0 :\")\n",
        "for i,topic in enumerate(l):\n",
        "  print(\"Topic \",i,\" : \",topic*100)"
      ],
      "metadata": {
        "colab": {
          "base_uri": "https://localhost:8080/"
        },
        "id": "l8o14UlgyGVN",
        "outputId": "1ecefe9a-1fd7-4bab-936b-a0515ddba3c4"
      },
      "execution_count": 24,
      "outputs": [
        {
          "output_type": "stream",
          "name": "stdout",
          "text": [
            "Document 0 :\n",
            "Topic  0  :  40.22907313025696\n",
            "Topic  1  :  5.549972023821381\n",
            "Topic  2  :  3.121153256394345\n",
            "Topic  3  :  -2.3701510915037414\n",
            "Topic  4  :  -18.64194237578423\n",
            "Topic  5  :  -6.648614051021484\n",
            "Topic  6  :  12.639603165005456\n",
            "Topic  7  :  -13.722768201765515\n",
            "Topic  8  :  -1.490652149609738\n",
            "Topic  9  :  -13.806902960178027\n"
          ]
        }
      ]
    },
    {
      "cell_type": "markdown",
      "source": [
        "Demikian pula untuk dokumen lain kita bisa melakukan proses tersebut. Namun perhatikan bahwa nilai tidak menambah 1 seperti di LSA itu bukan kemungkinan topik dalam dokumen."
      ],
      "metadata": {
        "id": "uQwEnNLHyQc8"
      }
    },
    {
      "cell_type": "code",
      "source": [
        "print(lsa_model.components_.shape) # (no_of_topics*no_of_words)\n",
        "print(lsa_model.components_)"
      ],
      "metadata": {
        "colab": {
          "base_uri": "https://localhost:8080/"
        },
        "id": "5z7KJzBgyRpS",
        "outputId": "a0bb7022-2d74-4c16-9bd3-58f23682f5f5"
      },
      "execution_count": 25,
      "outputs": [
        {
          "output_type": "stream",
          "name": "stdout",
          "text": [
            "(10, 1000)\n",
            "[[ 0.05154667  0.00835509  0.00626683 ...  0.00563758  0.00432133\n",
            "   0.00748422]\n",
            " [ 0.04152337  0.00365113  0.00222593 ... -0.00605957 -0.00827659\n",
            "  -0.0153578 ]\n",
            " [-0.01940661 -0.0040024  -0.00168403 ...  0.01488802 -0.0055252\n",
            "  -0.01176884]\n",
            " ...\n",
            " [-0.09926132 -0.01032602 -0.00870884 ...  0.00188085  0.01759257\n",
            "   0.00209193]\n",
            " [-0.10817699 -0.01190601 -0.01819463 ... -0.0017663  -0.01196481\n",
            "  -0.004904  ]\n",
            " [ 0.08643873  0.01072942  0.01006749 ... -0.00587757  0.00704055\n",
            "   0.00600814]]\n"
          ]
        }
      ]
    },
    {
      "cell_type": "markdown",
      "source": [
        "Pada proses ini mendapatkan daftar kata-kata penting untuk masing-masing dari 10 topik seperti yang ditunjukkan. Untuk proses tahapannya disini ditunjukkan 10 kata untuk setiap topik."
      ],
      "metadata": {
        "id": "0mwd2YpvykVC"
      }
    },
    {
      "cell_type": "code",
      "source": [
        "# most important words for each topic\n",
        "vocab = vect.get_feature_names()\n",
        "\n",
        "for i, comp in enumerate(lsa_model.components_):\n",
        "    vocab_comp = zip(vocab, comp)\n",
        "    sorted_words = sorted(vocab_comp, key= lambda x:x[1], reverse=True)[:10]\n",
        "    print(\"Topic \"+str(i)+\": \")\n",
        "    for t in sorted_words:\n",
        "        print(t[0],end=\" \")\n",
        "    print(\"\\n\")"
      ],
      "metadata": {
        "colab": {
          "base_uri": "https://localhost:8080/"
        },
        "id": "zbQUrfoLymmF",
        "outputId": "2dad3c0b-ef13-4f63-83d1-3511f1d2bfb3"
      },
      "execution_count": 26,
      "outputs": [
        {
          "output_type": "stream",
          "name": "stdout",
          "text": [
            "Topic 0: \n",
            "kerja karyawan terhadap yang kinerja variabel perusahaan penelitian berpengaruh sebesar \n",
            "\n",
            "Topic 1: \n",
            "kerja karyawan kinerja motivasi kepuasan disiplin lingkungan sebesar kompensasi organisasi \n",
            "\n",
            "Topic 2: \n",
            "keputusan pembelian produk merek konsumen kualitas promosi citra variabel mahasiswa \n",
            "\n",
            "Topic 3: \n",
            "ratio saham return equity harga debt earning share current kerja \n",
            "\n",
            "Topic 4: \n",
            "kerja kepuasan prestasi stres kualitas struktur produktivitas pelayanan perusahaan modal \n",
            "\n",
            "Topic 5: \n",
            "saham stock split harga volume sesudah sebelum perdagangan perbedaan yang \n",
            "\n",
            "Topic 6: \n",
            "kepuasan bank pelayanan pegawai pelanggan kualitas yang loan rasio empati \n",
            "\n",
            "Topic 7: \n",
            "bank rasio keuangan merek kerja kinerja karyawan ratio citra loan \n",
            "\n",
            "Topic 8: \n",
            "karyawan kepuasan kinerja pelayanan komitmen kualitas kompensasi pelanggan harga variabel \n",
            "\n",
            "Topic 9: \n",
            "merek kepuasan citra karyawan kualitas nilai sebesar 05 brand pelayanan \n",
            "\n"
          ]
        },
        {
          "output_type": "stream",
          "name": "stderr",
          "text": [
            "/usr/local/lib/python3.7/dist-packages/sklearn/utils/deprecation.py:87: FutureWarning: Function get_feature_names is deprecated; get_feature_names is deprecated in 1.0 and will be removed in 1.2. Please use get_feature_names_out instead.\n",
            "  warnings.warn(msg, category=FutureWarning)\n"
          ]
        }
      ]
    },
    {
      "cell_type": "markdown",
      "source": [
        "#K-Mean Clustering"
      ],
      "metadata": {
        "id": "80aq9lK4y6V1"
      }
    },
    {
      "cell_type": "markdown",
      "source": [
        "K-means clustering adalah salah satu algoritma analisis klaster (cluster analysis) non hirarki. Analisis klaster merupakan salah satu alat untuk mengelompokkan data berdasarkan variabel atau feature.\n",
        "\n",
        "Tujuan dari k-means clustering, seperti metode klaster lainnya, adalah untuk mendapatkan kelompok data dengan memaksimalkan kesamaan karakteristik dalam klaster dan memaksimalkan perbedaan antar klaster.\n",
        "\n",
        "Algoritma K-means clustering mengelompokkan data berdasarkan jarak antara data terhadap titik centroid klaster yang didapatkan melalui proses berulang. Analisis perlu menentukan jumlah K sebagai input algoritma."
      ],
      "metadata": {
        "id": "uGHaDvfKzNVA"
      }
    },
    {
      "cell_type": "code",
      "source": [
        "from sklearn.feature_extraction.text import TfidfVectorizer\n",
        "from sklearn.cluster import KMeans\n",
        "from sklearn.metrics import adjusted_rand_score\n",
        "\n",
        "documents = [\"kerja karyawan terhadap yang kinerja variabel perusahaan penelitian berpengaruh sebesar \",\n",
        "             \"kerja karyawan kinerja motivasi kepuasan disiplin lingkungan sebesar kompensasi organisasi\",\n",
        "             \"keputusan pembelian produk merek konsumen kualitas promosi citra variabel mahasiswa \",\n",
        "             \"ratio saham return equity harga debt earning share current kerja\",\n",
        "             \"kerja kepuasan prestasi stres kualitas struktur produktivitas pelayanan perusahaan modal\",\n",
        "             \"saham stock split harga volume sesudah sebelum perdagangan perbedaan yang\",\n",
        "             \"kepuasan bank pelayanan pegawai pelanggan kualitas yang loan rasio empati\",\n",
        "             \"bank rasio keuangan merek kerja kinerja karyawan ratio citra loan\",\n",
        "             \"karyawan kepuasan kinerja pelayanan komitmen kualitas kompensasi pelanggan harga variabel\",\n",
        "             \"merek kepuasan citra karyawan kualitas nilai sebesar 05 brand pelayanan \"]\n",
        "\n",
        "vectorizer = TfidfVectorizer(stop_words='english')\n",
        "X = vectorizer.fit_transform(documents)\n",
        "\n",
        "true_k = 2\n",
        "model = KMeans(n_clusters=true_k, init='k-means++', max_iter=100, n_init=1)\n",
        "model.fit(X)\n",
        "\n",
        "print(\"Top terms per cluster pada kmeans:\")\n",
        "order_centroids = model.cluster_centers_.argsort()[:, ::-1]\n",
        "terms = vectorizer.get_feature_names()\n",
        "for i in range(true_k):\n",
        "    print(\"Cluster %d:\" % i),\n",
        "    for ind in order_centroids[i, :10]:\n",
        "        print(' %s' % terms[ind]),\n",
        "    print\n",
        "\n",
        "print(\"\\n\")\n",
        "print(\"Prediction\")\n",
        "\n",
        "Y = vectorizer.transform([\"chrome browser to open.\"])\n",
        "prediction = model.predict(Y)\n",
        "print(prediction)\n",
        "\n",
        "Y = vectorizer.transform([\"My cat is hungry.\"])\n",
        "prediction = model.predict(Y)\n",
        "print(prediction)"
      ],
      "metadata": {
        "colab": {
          "base_uri": "https://localhost:8080/"
        },
        "id": "WRZkB3bazGXU",
        "outputId": "34030240-65ec-4e39-9bd0-d2473afb2258"
      },
      "execution_count": 27,
      "outputs": [
        {
          "output_type": "stream",
          "name": "stdout",
          "text": [
            "Top terms per cluster pada kmeans:\n",
            "Cluster 0:\n",
            " kinerja\n",
            " karyawan\n",
            " kepuasan\n",
            " kompensasi\n",
            " kerja\n",
            " perusahaan\n",
            " variabel\n",
            " sebesar\n",
            " harga\n",
            " yang\n",
            "Cluster 1:\n",
            " citra\n",
            " merek\n",
            " kualitas\n",
            " bank\n",
            " loan\n",
            " rasio\n",
            " ratio\n",
            " pelayanan\n",
            " karyawan\n",
            " kepuasan\n",
            "\n",
            "\n",
            "Prediction\n",
            "[1]\n",
            "[1]\n"
          ]
        },
        {
          "output_type": "stream",
          "name": "stderr",
          "text": [
            "/usr/local/lib/python3.7/dist-packages/sklearn/utils/deprecation.py:87: FutureWarning: Function get_feature_names is deprecated; get_feature_names is deprecated in 1.0 and will be removed in 1.2. Please use get_feature_names_out instead.\n",
            "  warnings.warn(msg, category=FutureWarning)\n"
          ]
        }
      ]
    }
  ]
}